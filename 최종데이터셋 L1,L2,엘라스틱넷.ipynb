{
 "cells": [
  {
   "cell_type": "code",
   "execution_count": 2,
   "id": "b9991393",
   "metadata": {},
   "outputs": [],
   "source": [
    "import pandas as pd\n",
    "import numpy as np"
   ]
  },
  {
   "cell_type": "code",
   "execution_count": 3,
   "id": "f9b2d996",
   "metadata": {},
   "outputs": [],
   "source": [
    "total=pd.read_csv('./fin.csv',index_col=0)"
   ]
  },
  {
   "cell_type": "code",
   "execution_count": 4,
   "id": "0bb72bc5",
   "metadata": {},
   "outputs": [
    {
     "data": {
      "text/html": [
       "<div>\n",
       "<style scoped>\n",
       "    .dataframe tbody tr th:only-of-type {\n",
       "        vertical-align: middle;\n",
       "    }\n",
       "\n",
       "    .dataframe tbody tr th {\n",
       "        vertical-align: top;\n",
       "    }\n",
       "\n",
       "    .dataframe thead th {\n",
       "        text-align: right;\n",
       "    }\n",
       "</style>\n",
       "<table border=\"1\" class=\"dataframe\">\n",
       "  <thead>\n",
       "    <tr style=\"text-align: right;\">\n",
       "      <th></th>\n",
       "      <th>RAIN</th>\n",
       "      <th>HUMN</th>\n",
       "      <th>SNOW</th>\n",
       "      <th>SKY</th>\n",
       "      <th>ONDO</th>\n",
       "      <th>WINDD</th>\n",
       "      <th>WINDS</th>\n",
       "      <th>PM10</th>\n",
       "      <th>PM25</th>\n",
       "      <th>T</th>\n",
       "      <th>W</th>\n",
       "      <th>TOTAL</th>\n",
       "    </tr>\n",
       "    <tr>\n",
       "      <th>STATION_NAME</th>\n",
       "      <th></th>\n",
       "      <th></th>\n",
       "      <th></th>\n",
       "      <th></th>\n",
       "      <th></th>\n",
       "      <th></th>\n",
       "      <th></th>\n",
       "      <th></th>\n",
       "      <th></th>\n",
       "      <th></th>\n",
       "      <th></th>\n",
       "      <th></th>\n",
       "    </tr>\n",
       "  </thead>\n",
       "  <tbody>\n",
       "    <tr>\n",
       "      <th>가락시장</th>\n",
       "      <td>0.0</td>\n",
       "      <td>3.806662</td>\n",
       "      <td>0.0</td>\n",
       "      <td>1.386294</td>\n",
       "      <td>-4.9</td>\n",
       "      <td>2.639057</td>\n",
       "      <td>0.955511</td>\n",
       "      <td>3.871201</td>\n",
       "      <td>3.583519</td>\n",
       "      <td>0.0</td>\n",
       "      <td>7.848104</td>\n",
       "      <td>6.410175</td>\n",
       "    </tr>\n",
       "    <tr>\n",
       "      <th>가락시장</th>\n",
       "      <td>0.0</td>\n",
       "      <td>3.737670</td>\n",
       "      <td>0.0</td>\n",
       "      <td>0.693147</td>\n",
       "      <td>-3.7</td>\n",
       "      <td>2.639057</td>\n",
       "      <td>1.252763</td>\n",
       "      <td>3.713572</td>\n",
       "      <td>3.258097</td>\n",
       "      <td>0.0</td>\n",
       "      <td>7.848104</td>\n",
       "      <td>6.719013</td>\n",
       "    </tr>\n",
       "    <tr>\n",
       "      <th>가락시장</th>\n",
       "      <td>0.0</td>\n",
       "      <td>3.871201</td>\n",
       "      <td>0.0</td>\n",
       "      <td>1.386294</td>\n",
       "      <td>-2.8</td>\n",
       "      <td>2.639057</td>\n",
       "      <td>1.335001</td>\n",
       "      <td>3.761200</td>\n",
       "      <td>3.367296</td>\n",
       "      <td>0.0</td>\n",
       "      <td>7.848104</td>\n",
       "      <td>6.933423</td>\n",
       "    </tr>\n",
       "    <tr>\n",
       "      <th>가락시장</th>\n",
       "      <td>0.0</td>\n",
       "      <td>3.912023</td>\n",
       "      <td>0.0</td>\n",
       "      <td>1.386294</td>\n",
       "      <td>-1.5</td>\n",
       "      <td>2.564949</td>\n",
       "      <td>1.308333</td>\n",
       "      <td>3.828641</td>\n",
       "      <td>3.433987</td>\n",
       "      <td>0.0</td>\n",
       "      <td>7.848104</td>\n",
       "      <td>6.844815</td>\n",
       "    </tr>\n",
       "    <tr>\n",
       "      <th>가락시장</th>\n",
       "      <td>0.0</td>\n",
       "      <td>3.951244</td>\n",
       "      <td>0.0</td>\n",
       "      <td>1.386294</td>\n",
       "      <td>-1.7</td>\n",
       "      <td>2.639057</td>\n",
       "      <td>1.504077</td>\n",
       "      <td>3.761200</td>\n",
       "      <td>3.295837</td>\n",
       "      <td>0.0</td>\n",
       "      <td>7.848104</td>\n",
       "      <td>6.965080</td>\n",
       "    </tr>\n",
       "  </tbody>\n",
       "</table>\n",
       "</div>"
      ],
      "text/plain": [
       "              RAIN      HUMN  SNOW       SKY  ONDO     WINDD     WINDS  \\\n",
       "STATION_NAME                                                             \n",
       "가락시장           0.0  3.806662   0.0  1.386294  -4.9  2.639057  0.955511   \n",
       "가락시장           0.0  3.737670   0.0  0.693147  -3.7  2.639057  1.252763   \n",
       "가락시장           0.0  3.871201   0.0  1.386294  -2.8  2.639057  1.335001   \n",
       "가락시장           0.0  3.912023   0.0  1.386294  -1.5  2.564949  1.308333   \n",
       "가락시장           0.0  3.951244   0.0  1.386294  -1.7  2.639057  1.504077   \n",
       "\n",
       "                  PM10      PM25    T         W     TOTAL  \n",
       "STATION_NAME                                               \n",
       "가락시장          3.871201  3.583519  0.0  7.848104  6.410175  \n",
       "가락시장          3.713572  3.258097  0.0  7.848104  6.719013  \n",
       "가락시장          3.761200  3.367296  0.0  7.848104  6.933423  \n",
       "가락시장          3.828641  3.433987  0.0  7.848104  6.844815  \n",
       "가락시장          3.761200  3.295837  0.0  7.848104  6.965080  "
      ]
     },
     "execution_count": 4,
     "metadata": {},
     "output_type": "execute_result"
    }
   ],
   "source": [
    "total.head()"
   ]
  },
  {
   "cell_type": "code",
   "execution_count": 5,
   "id": "4f05a41a",
   "metadata": {},
   "outputs": [],
   "source": [
    "X=total.drop('TOTAL',axis=1)\n",
    "Y=total[['TOTAL']]"
   ]
  },
  {
   "cell_type": "code",
   "execution_count": 6,
   "id": "8f27e34f",
   "metadata": {},
   "outputs": [],
   "source": [
    "from sklearn.model_selection import train_test_split\n",
    "from sklearn.linear_model import Ridge,Lasso,ElasticNet\n",
    "from sklearn.metrics import mean_squared_error,r2_score\n",
    "from sklearn.model_selection import cross_val_score"
   ]
  },
  {
   "cell_type": "code",
   "execution_count": 7,
   "id": "562aafb8",
   "metadata": {},
   "outputs": [],
   "source": [
    "# train, test 데이터 분리 (8 : 2)\n",
    "X_train, X_test, y_train, y_test = train_test_split(X, Y, test_size=0.2, shuffle=True, random_state=34)"
   ]
  },
  {
   "cell_type": "code",
   "execution_count": 8,
   "id": "78f68d6b",
   "metadata": {},
   "outputs": [],
   "source": [
    "alpha=[0.01,0.05,0.1,1,5,10]"
   ]
  },
  {
   "cell_type": "markdown",
   "id": "6a05279a",
   "metadata": {},
   "source": [
    "### L2 기본선형과 차이 거의 없음"
   ]
  },
  {
   "cell_type": "code",
   "execution_count": 9,
   "id": "c90d7e17",
   "metadata": {
    "scrolled": false
   },
   "outputs": [
    {
     "name": "stdout",
     "output_type": "stream",
     "text": [
      "alpha 0.01,평균 MSE 0.26212881551200107 평균 R2 0.6629861767536631\n",
      "alpha 0.05,평균 MSE 0.26212881550287387 평균 R2 0.6629861767648363\n",
      "alpha 0.1,평균 MSE 0.2621288154918336 평균 R2 0.6629861767783287\n",
      "alpha 1,평균 MSE 0.2621288153628856 평균 R2 0.6629861769315195\n",
      "alpha 5,평균 MSE 0.26212881635891494 평균 R2 0.6629861755958191\n",
      "alpha 10,평균 MSE 0.26212882107078306 평균 R2 0.6629861694708649\n"
     ]
    }
   ],
   "source": [
    "for i in alpha:\n",
    "    ridge=Ridge(alpha=i)\n",
    "    \n",
    "    mse_scores=cross_val_score(ridge,X_train,y_train,scoring='neg_mean_squared_error',cv=5)\n",
    "    r2_scores=cross_val_score(ridge,X_train,y_train,scoring='r2',cv=5)\n",
    "    avg_score=np.mean(-1*mse_scores)\n",
    "    avg_r2=np.mean(r2_scores)\n",
    "    print('alpha {0},평균 MSE {1} 평균 R2 {2}'.format(i,avg_score,avg_r2))"
   ]
  },
  {
   "cell_type": "markdown",
   "id": "2946b0c8",
   "metadata": {},
   "source": [
    "### L1 alpha0.01은 기본선형과 차이 거의 없음( 0.05부터는 성능 저하)"
   ]
  },
  {
   "cell_type": "code",
   "execution_count": 10,
   "id": "0e8eb488",
   "metadata": {},
   "outputs": [
    {
     "name": "stdout",
     "output_type": "stream",
     "text": [
      "alpha 0.01,평균 MSE 0.26561360869276673\n",
      "alpha 0.05,평균 MSE 0.30723934100918815\n",
      "alpha 0.1,평균 MSE 0.3417198819439943\n",
      "alpha 1,평균 MSE 0.7777983063277405\n",
      "alpha 5,평균 MSE 0.7777983063277405\n",
      "alpha 10,평균 MSE 0.7777983063277405\n"
     ]
    }
   ],
   "source": [
    "for i in alpha:\n",
    "    lasso=Lasso(alpha=i)\n",
    "    \n",
    "    mse_scores=cross_val_score(lasso,X_train,y_train,scoring='neg_mean_squared_error',cv=5)\n",
    "    avg_score=np.mean(-1*mse_scores)\n",
    "    print('alpha {0},평균 MSE {1}'.format(i,avg_score))"
   ]
  },
  {
   "cell_type": "code",
   "execution_count": 11,
   "id": "564d481d",
   "metadata": {},
   "outputs": [],
   "source": [
    "ratio=[0.1,0.3,0.5,0.7,0.9]"
   ]
  },
  {
   "cell_type": "markdown",
   "id": "a23fc503",
   "metadata": {},
   "source": [
    "### ElasticNet 기본선형과 거의 차이 없음"
   ]
  },
  {
   "cell_type": "code",
   "execution_count": 12,
   "id": "2d02f1af",
   "metadata": {
    "scrolled": true
   },
   "outputs": [
    {
     "name": "stdout",
     "output_type": "stream",
     "text": [
      "alpha 0.01,ratio 0.1,평균 MSE 0.263099517227124\n",
      "alpha 0.01,ratio 0.3,평균 MSE 0.26343593745307603\n",
      "alpha 0.01,ratio 0.5,평균 MSE 0.26394251455084144\n",
      "alpha 0.01,ratio 0.7,평균 MSE 0.2646359527389602\n",
      "alpha 0.01,ratio 0.9,평균 MSE 0.2653839927976704\n",
      "alpha 0.05,ratio 0.1,평균 MSE 0.2760218302353806\n",
      "alpha 0.05,ratio 0.3,평균 MSE 0.28067286299988753\n",
      "alpha 0.05,ratio 0.5,평균 MSE 0.28715227681644745\n",
      "alpha 0.05,ratio 0.7,평균 MSE 0.2956232283791269\n",
      "alpha 0.05,ratio 0.9,평균 MSE 0.30262437377978707\n",
      "alpha 0.1,ratio 0.1,평균 MSE 0.2982500791591109\n",
      "alpha 0.1,ratio 0.3,평균 MSE 0.31224029535844916\n",
      "alpha 0.1,ratio 0.5,평균 MSE 0.32656983254634275\n",
      "alpha 0.1,ratio 0.7,평균 MSE 0.33914442652227444\n",
      "alpha 0.1,ratio 0.9,평균 MSE 0.3408046809648246\n",
      "alpha 1,ratio 0.1,평균 MSE 0.5764447201787557\n",
      "alpha 1,ratio 0.3,평균 MSE 0.6718568787157595\n",
      "alpha 1,ratio 0.5,평균 MSE 0.7777983063277405\n",
      "alpha 1,ratio 0.7,평균 MSE 0.7777983063277405\n",
      "alpha 1,ratio 0.9,평균 MSE 0.7777983063277405\n",
      "alpha 5,ratio 0.1,평균 MSE 0.7777983063277405\n",
      "alpha 5,ratio 0.3,평균 MSE 0.7777983063277405\n",
      "alpha 5,ratio 0.5,평균 MSE 0.7777983063277405\n",
      "alpha 5,ratio 0.7,평균 MSE 0.7777983063277405\n",
      "alpha 5,ratio 0.9,평균 MSE 0.7777983063277405\n",
      "alpha 10,ratio 0.1,평균 MSE 0.7777983063277405\n",
      "alpha 10,ratio 0.3,평균 MSE 0.7777983063277405\n",
      "alpha 10,ratio 0.5,평균 MSE 0.7777983063277405\n",
      "alpha 10,ratio 0.7,평균 MSE 0.7777983063277405\n",
      "alpha 10,ratio 0.9,평균 MSE 0.7777983063277405\n"
     ]
    }
   ],
   "source": [
    "for i in alpha:\n",
    "    for j in ratio:\n",
    "        elas=ElasticNet(alpha=i,l1_ratio=j)\n",
    "\n",
    "        mse_scores=cross_val_score(elas,X_train,y_train,scoring='neg_mean_squared_error',cv=5)\n",
    "        avg_score=np.mean(-1*mse_scores)\n",
    "        print('alpha {0},ratio {1},평균 MSE {2}'.format(i,j,avg_score))"
   ]
  },
  {
   "cell_type": "markdown",
   "id": "ff63ecc2",
   "metadata": {},
   "source": [
    "## L2가 가장 좋은 성능(but,기본 선형모델과 성능변화 거의 없음)"
   ]
  }
 ],
 "metadata": {
  "kernelspec": {
   "display_name": "Python 3 (ipykernel)",
   "language": "python",
   "name": "python3"
  },
  "language_info": {
   "codemirror_mode": {
    "name": "ipython",
    "version": 3
   },
   "file_extension": ".py",
   "mimetype": "text/x-python",
   "name": "python",
   "nbconvert_exporter": "python",
   "pygments_lexer": "ipython3",
   "version": "3.9.12"
  }
 },
 "nbformat": 4,
 "nbformat_minor": 5
}
