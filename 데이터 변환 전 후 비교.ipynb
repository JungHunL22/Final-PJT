{
 "cells": [
  {
   "cell_type": "code",
   "execution_count": 1,
   "id": "8e1709c0",
   "metadata": {},
   "outputs": [],
   "source": [
    "import pandas as pd\n",
    "import numpy as np\n",
    "import seaborn as sns\n",
    "import matplotlib.pyplot as plt\n",
    "import seaborn as sns\n",
    "from glob import glob"
   ]
  },
  {
   "cell_type": "code",
   "execution_count": 2,
   "id": "dbb0f7f1",
   "metadata": {},
   "outputs": [],
   "source": [
    "from sklearn.preprocessing import MinMaxScaler , PolynomialFeatures\n",
    "from sklearn.metrics import mean_squared_error,mean_absolute_error,r2_score\n",
    "from sklearn.linear_model import LinearRegression\n",
    "from sklearn.model_selection import train_test_split\n",
    "from sklearn.pipeline import Pipeline"
   ]
  },
  {
   "cell_type": "code",
   "execution_count": 3,
   "id": "0971436c",
   "metadata": {},
   "outputs": [],
   "source": [
    "# 한글 문제\n",
    "# matplotlit의 기본 폰트에서 한글 지원되지 않기 때문에\n",
    "# matplotlib의 폰트 변경 필요\n",
    "import platform\n",
    "\n",
    "from matplotlib import font_manager, rc\n",
    "plt.rcParams['axes.unicode_minus'] = False\n",
    "\n",
    "if platform.system() == 'Darwin':  # 맥OS \n",
    "    rc('font', family='AppleGothic')\n",
    "elif platform.system() == 'Windows':  # 윈도우\n",
    "    path = \"c:/Windows/Fonts/malgun.ttf\"\n",
    "    font_name = font_manager.FontProperties(fname=path).get_name()\n",
    "    rc('font', family=font_name)\n",
    "else:\n",
    "    print('Unknown system...  sorry~~~')"
   ]
  },
  {
   "cell_type": "code",
   "execution_count": 5,
   "id": "4a542b3d",
   "metadata": {},
   "outputs": [],
   "source": [
    "# 연도별 데이터 통합\n",
    "def load():\n",
    "    data=glob('./data/final*')\n",
    "    total=[]\n",
    "    for i in data:\n",
    "        total.append(pd.read_csv(i,encoding='cp949'))\n",
    "    tot=pd.concat(total,axis=0)\n",
    "    return tot"
   ]
  },
  {
   "cell_type": "code",
   "execution_count": 6,
   "id": "5af4d073",
   "metadata": {},
   "outputs": [],
   "source": [
    "tot=load()"
   ]
  },
  {
   "cell_type": "code",
   "execution_count": 7,
   "id": "e9b8dfd3",
   "metadata": {},
   "outputs": [
    {
     "data": {
      "text/html": [
       "<div>\n",
       "<style scoped>\n",
       "    .dataframe tbody tr th:only-of-type {\n",
       "        vertical-align: middle;\n",
       "    }\n",
       "\n",
       "    .dataframe tbody tr th {\n",
       "        vertical-align: top;\n",
       "    }\n",
       "\n",
       "    .dataframe thead th {\n",
       "        text-align: right;\n",
       "    }\n",
       "</style>\n",
       "<table border=\"1\" class=\"dataframe\">\n",
       "  <thead>\n",
       "    <tr style=\"text-align: right;\">\n",
       "      <th></th>\n",
       "      <th>DAY</th>\n",
       "      <th>TIME</th>\n",
       "      <th>STATION_NAME</th>\n",
       "      <th>GU</th>\n",
       "      <th>UP_POP</th>\n",
       "      <th>DOWN_POP</th>\n",
       "      <th>RAIN</th>\n",
       "      <th>HUMN</th>\n",
       "      <th>SNOW</th>\n",
       "      <th>SKY</th>\n",
       "      <th>ONDO</th>\n",
       "      <th>WINDD</th>\n",
       "      <th>WINDS</th>\n",
       "      <th>PM10</th>\n",
       "      <th>PM25</th>\n",
       "    </tr>\n",
       "  </thead>\n",
       "  <tbody>\n",
       "    <tr>\n",
       "      <th>0</th>\n",
       "      <td>19/01/01</td>\n",
       "      <td>10:00</td>\n",
       "      <td>가락시장</td>\n",
       "      <td>송파구</td>\n",
       "      <td>300</td>\n",
       "      <td>307</td>\n",
       "      <td>0.0</td>\n",
       "      <td>44</td>\n",
       "      <td>0.0</td>\n",
       "      <td>3</td>\n",
       "      <td>-4.9</td>\n",
       "      <td>13</td>\n",
       "      <td>1.6</td>\n",
       "      <td>47</td>\n",
       "      <td>35</td>\n",
       "    </tr>\n",
       "    <tr>\n",
       "      <th>1</th>\n",
       "      <td>19/01/01</td>\n",
       "      <td>11:00</td>\n",
       "      <td>가락시장</td>\n",
       "      <td>송파구</td>\n",
       "      <td>377</td>\n",
       "      <td>450</td>\n",
       "      <td>0.0</td>\n",
       "      <td>41</td>\n",
       "      <td>0.0</td>\n",
       "      <td>1</td>\n",
       "      <td>-3.7</td>\n",
       "      <td>13</td>\n",
       "      <td>2.5</td>\n",
       "      <td>40</td>\n",
       "      <td>25</td>\n",
       "    </tr>\n",
       "    <tr>\n",
       "      <th>2</th>\n",
       "      <td>19/01/01</td>\n",
       "      <td>12:00</td>\n",
       "      <td>가락시장</td>\n",
       "      <td>송파구</td>\n",
       "      <td>527</td>\n",
       "      <td>498</td>\n",
       "      <td>0.0</td>\n",
       "      <td>47</td>\n",
       "      <td>0.0</td>\n",
       "      <td>3</td>\n",
       "      <td>-2.8</td>\n",
       "      <td>13</td>\n",
       "      <td>2.8</td>\n",
       "      <td>42</td>\n",
       "      <td>28</td>\n",
       "    </tr>\n",
       "    <tr>\n",
       "      <th>3</th>\n",
       "      <td>19/01/01</td>\n",
       "      <td>13:00</td>\n",
       "      <td>가락시장</td>\n",
       "      <td>송파구</td>\n",
       "      <td>485</td>\n",
       "      <td>453</td>\n",
       "      <td>0.0</td>\n",
       "      <td>49</td>\n",
       "      <td>0.0</td>\n",
       "      <td>3</td>\n",
       "      <td>-1.5</td>\n",
       "      <td>12</td>\n",
       "      <td>2.7</td>\n",
       "      <td>45</td>\n",
       "      <td>30</td>\n",
       "    </tr>\n",
       "    <tr>\n",
       "      <th>4</th>\n",
       "      <td>19/01/01</td>\n",
       "      <td>14:00</td>\n",
       "      <td>가락시장</td>\n",
       "      <td>송파구</td>\n",
       "      <td>562</td>\n",
       "      <td>496</td>\n",
       "      <td>0.0</td>\n",
       "      <td>51</td>\n",
       "      <td>0.0</td>\n",
       "      <td>3</td>\n",
       "      <td>-1.7</td>\n",
       "      <td>13</td>\n",
       "      <td>3.5</td>\n",
       "      <td>42</td>\n",
       "      <td>26</td>\n",
       "    </tr>\n",
       "  </tbody>\n",
       "</table>\n",
       "</div>"
      ],
      "text/plain": [
       "        DAY   TIME STATION_NAME   GU  UP_POP  DOWN_POP  RAIN  HUMN  SNOW  SKY  \\\n",
       "0  19/01/01  10:00         가락시장  송파구     300       307   0.0    44   0.0    3   \n",
       "1  19/01/01  11:00         가락시장  송파구     377       450   0.0    41   0.0    1   \n",
       "2  19/01/01  12:00         가락시장  송파구     527       498   0.0    47   0.0    3   \n",
       "3  19/01/01  13:00         가락시장  송파구     485       453   0.0    49   0.0    3   \n",
       "4  19/01/01  14:00         가락시장  송파구     562       496   0.0    51   0.0    3   \n",
       "\n",
       "   ONDO  WINDD  WINDS  PM10  PM25  \n",
       "0  -4.9     13    1.6    47    35  \n",
       "1  -3.7     13    2.5    40    25  \n",
       "2  -2.8     13    2.8    42    28  \n",
       "3  -1.5     12    2.7    45    30  \n",
       "4  -1.7     13    3.5    42    26  "
      ]
     },
     "execution_count": 7,
     "metadata": {},
     "output_type": "execute_result"
    }
   ],
   "source": [
    "tot.head()"
   ]
  },
  {
   "cell_type": "markdown",
   "id": "80feb3eb",
   "metadata": {},
   "source": [
    "# 전처리 함수"
   ]
  },
  {
   "cell_type": "code",
   "execution_count": 14,
   "id": "9a541a73",
   "metadata": {},
   "outputs": [],
   "source": [
    "# # 시간대별 지하철 이용객수 그래프\n",
    "# def visual(df):\n",
    "#     df2=df.copy()\n",
    "#     df2=feat(df2)\n",
    "#     df2['TIME']=[int(i.split(':')[0]) for i in df2['TIME']]\n",
    "#     pivot=pd.pivot_table(df2,index='TIME',values='TOTAL',aggfunc='sum')\n",
    "\n",
    "#     sns.barplot(pivot.index,pivot['TOTAL'])"
   ]
  },
  {
   "cell_type": "code",
   "execution_count": 15,
   "id": "865a394e",
   "metadata": {},
   "outputs": [],
   "source": [
    "# 합계와 시간대 컬럼 생성\n",
    "def feat(dt):\n",
    "    df=dt.copy()\n",
    "    df['TOTAL']=df['UP_POP']+df['DOWN_POP']\n",
    "    df['T']=[0 if (int(i.split(':')[0])>19) or (int(i.split(':')[0])<17) else 1 for i in df['TIME']]\n",
    "    return df"
   ]
  },
  {
   "cell_type": "code",
   "execution_count": 16,
   "id": "9192bf45",
   "metadata": {},
   "outputs": [],
   "source": [
    "# 가중치 컬럼 생성 후 필요없는 컬럼 제거\n",
    "def weight(dt):\n",
    "    df=dt.copy()\n",
    "    mean=pd.pivot_table(df,index='STATION_NAME',values='TOTAL')\n",
    "#     mm=MinMaxScaler()\n",
    "#     w=mm.fit_transform(mean)\n",
    "    mean['W']=mean\n",
    "    df=pd.merge(df.drop(['UP_POP','DOWN_POP'],axis=1),mean.drop(['TOTAL'],axis=1),on='STATION_NAME')\n",
    "    return df\n",
    "    "
   ]
  },
  {
   "cell_type": "code",
   "execution_count": 17,
   "id": "8934e430",
   "metadata": {},
   "outputs": [],
   "source": [
    "# 로그변환\n",
    "def log_trans(dt):\n",
    "    df=dt.copy()\n",
    "    feat=df.columns.drop('ONDO')\n",
    "    df[feat]=np.log1p(df[feat])\n",
    "    return df\n",
    "    "
   ]
  },
  {
   "cell_type": "code",
   "execution_count": 32,
   "id": "275f5a50",
   "metadata": {},
   "outputs": [],
   "source": [
    "# 모든함수 적용\n",
    "def pre(dt):\n",
    "    df=dt.copy()\n",
    "    df=feat(df)\n",
    "    df=weight(df).drop(['DAY','GU','TIME'],axis=1).set_index('STATION_NAME')\n",
    "    df=log_trans(df)\n",
    "    X=df.drop('TOTAL',axis=1)\n",
    "    Y=df[['TOTAL']]\n",
    "    return X,Y"
   ]
  },
  {
   "cell_type": "markdown",
   "id": "9601f163",
   "metadata": {},
   "source": [
    "# 로그변환 전 데이터"
   ]
  },
  {
   "cell_type": "code",
   "execution_count": 33,
   "id": "95930407",
   "metadata": {},
   "outputs": [],
   "source": [
    "X_n,Y_n=pre(tot)"
   ]
  },
  {
   "cell_type": "code",
   "execution_count": 34,
   "id": "27121017",
   "metadata": {},
   "outputs": [
    {
     "data": {
      "text/html": [
       "<div>\n",
       "<style scoped>\n",
       "    .dataframe tbody tr th:only-of-type {\n",
       "        vertical-align: middle;\n",
       "    }\n",
       "\n",
       "    .dataframe tbody tr th {\n",
       "        vertical-align: top;\n",
       "    }\n",
       "\n",
       "    .dataframe thead th {\n",
       "        text-align: right;\n",
       "    }\n",
       "</style>\n",
       "<table border=\"1\" class=\"dataframe\">\n",
       "  <thead>\n",
       "    <tr style=\"text-align: right;\">\n",
       "      <th></th>\n",
       "      <th>RAIN</th>\n",
       "      <th>HUMN</th>\n",
       "      <th>SNOW</th>\n",
       "      <th>SKY</th>\n",
       "      <th>ONDO</th>\n",
       "      <th>WINDD</th>\n",
       "      <th>WINDS</th>\n",
       "      <th>PM10</th>\n",
       "      <th>PM25</th>\n",
       "      <th>T</th>\n",
       "      <th>W</th>\n",
       "    </tr>\n",
       "    <tr>\n",
       "      <th>STATION_NAME</th>\n",
       "      <th></th>\n",
       "      <th></th>\n",
       "      <th></th>\n",
       "      <th></th>\n",
       "      <th></th>\n",
       "      <th></th>\n",
       "      <th></th>\n",
       "      <th></th>\n",
       "      <th></th>\n",
       "      <th></th>\n",
       "      <th></th>\n",
       "    </tr>\n",
       "  </thead>\n",
       "  <tbody>\n",
       "    <tr>\n",
       "      <th>가락시장</th>\n",
       "      <td>0.0</td>\n",
       "      <td>44</td>\n",
       "      <td>0.0</td>\n",
       "      <td>3</td>\n",
       "      <td>-4.9</td>\n",
       "      <td>13</td>\n",
       "      <td>1.6</td>\n",
       "      <td>47</td>\n",
       "      <td>35</td>\n",
       "      <td>0</td>\n",
       "      <td>2559.875</td>\n",
       "    </tr>\n",
       "    <tr>\n",
       "      <th>가락시장</th>\n",
       "      <td>0.0</td>\n",
       "      <td>41</td>\n",
       "      <td>0.0</td>\n",
       "      <td>1</td>\n",
       "      <td>-3.7</td>\n",
       "      <td>13</td>\n",
       "      <td>2.5</td>\n",
       "      <td>40</td>\n",
       "      <td>25</td>\n",
       "      <td>0</td>\n",
       "      <td>2559.875</td>\n",
       "    </tr>\n",
       "    <tr>\n",
       "      <th>가락시장</th>\n",
       "      <td>0.0</td>\n",
       "      <td>47</td>\n",
       "      <td>0.0</td>\n",
       "      <td>3</td>\n",
       "      <td>-2.8</td>\n",
       "      <td>13</td>\n",
       "      <td>2.8</td>\n",
       "      <td>42</td>\n",
       "      <td>28</td>\n",
       "      <td>0</td>\n",
       "      <td>2559.875</td>\n",
       "    </tr>\n",
       "    <tr>\n",
       "      <th>가락시장</th>\n",
       "      <td>0.0</td>\n",
       "      <td>49</td>\n",
       "      <td>0.0</td>\n",
       "      <td>3</td>\n",
       "      <td>-1.5</td>\n",
       "      <td>12</td>\n",
       "      <td>2.7</td>\n",
       "      <td>45</td>\n",
       "      <td>30</td>\n",
       "      <td>0</td>\n",
       "      <td>2559.875</td>\n",
       "    </tr>\n",
       "    <tr>\n",
       "      <th>가락시장</th>\n",
       "      <td>0.0</td>\n",
       "      <td>51</td>\n",
       "      <td>0.0</td>\n",
       "      <td>3</td>\n",
       "      <td>-1.7</td>\n",
       "      <td>13</td>\n",
       "      <td>3.5</td>\n",
       "      <td>42</td>\n",
       "      <td>26</td>\n",
       "      <td>0</td>\n",
       "      <td>2559.875</td>\n",
       "    </tr>\n",
       "  </tbody>\n",
       "</table>\n",
       "</div>"
      ],
      "text/plain": [
       "              RAIN  HUMN  SNOW  SKY  ONDO  WINDD  WINDS  PM10  PM25  T  \\\n",
       "STATION_NAME                                                             \n",
       "가락시장           0.0    44   0.0    3  -4.9     13    1.6    47    35  0   \n",
       "가락시장           0.0    41   0.0    1  -3.7     13    2.5    40    25  0   \n",
       "가락시장           0.0    47   0.0    3  -2.8     13    2.8    42    28  0   \n",
       "가락시장           0.0    49   0.0    3  -1.5     12    2.7    45    30  0   \n",
       "가락시장           0.0    51   0.0    3  -1.7     13    3.5    42    26  0   \n",
       "\n",
       "                     W  \n",
       "STATION_NAME            \n",
       "가락시장          2559.875  \n",
       "가락시장          2559.875  \n",
       "가락시장          2559.875  \n",
       "가락시장          2559.875  \n",
       "가락시장          2559.875  "
      ]
     },
     "execution_count": 34,
     "metadata": {},
     "output_type": "execute_result"
    }
   ],
   "source": [
    "X_n.head()"
   ]
  },
  {
   "cell_type": "code",
   "execution_count": 35,
   "id": "b6360058",
   "metadata": {},
   "outputs": [
    {
     "data": {
      "text/html": [
       "<div>\n",
       "<style scoped>\n",
       "    .dataframe tbody tr th:only-of-type {\n",
       "        vertical-align: middle;\n",
       "    }\n",
       "\n",
       "    .dataframe tbody tr th {\n",
       "        vertical-align: top;\n",
       "    }\n",
       "\n",
       "    .dataframe thead th {\n",
       "        text-align: right;\n",
       "    }\n",
       "</style>\n",
       "<table border=\"1\" class=\"dataframe\">\n",
       "  <thead>\n",
       "    <tr style=\"text-align: right;\">\n",
       "      <th></th>\n",
       "      <th>TOTAL</th>\n",
       "    </tr>\n",
       "    <tr>\n",
       "      <th>STATION_NAME</th>\n",
       "      <th></th>\n",
       "    </tr>\n",
       "  </thead>\n",
       "  <tbody>\n",
       "    <tr>\n",
       "      <th>가락시장</th>\n",
       "      <td>607</td>\n",
       "    </tr>\n",
       "    <tr>\n",
       "      <th>가락시장</th>\n",
       "      <td>827</td>\n",
       "    </tr>\n",
       "    <tr>\n",
       "      <th>가락시장</th>\n",
       "      <td>1025</td>\n",
       "    </tr>\n",
       "    <tr>\n",
       "      <th>가락시장</th>\n",
       "      <td>938</td>\n",
       "    </tr>\n",
       "    <tr>\n",
       "      <th>가락시장</th>\n",
       "      <td>1058</td>\n",
       "    </tr>\n",
       "  </tbody>\n",
       "</table>\n",
       "</div>"
      ],
      "text/plain": [
       "              TOTAL\n",
       "STATION_NAME       \n",
       "가락시장            607\n",
       "가락시장            827\n",
       "가락시장           1025\n",
       "가락시장            938\n",
       "가락시장           1058"
      ]
     },
     "execution_count": 35,
     "metadata": {},
     "output_type": "execute_result"
    }
   ],
   "source": [
    "Y_n.head()"
   ]
  },
  {
   "cell_type": "code",
   "execution_count": 36,
   "id": "0ad87d7d",
   "metadata": {},
   "outputs": [],
   "source": [
    "total_n=pd.concat([X_n,Y_n],axis=1)"
   ]
  },
  {
   "cell_type": "code",
   "execution_count": 37,
   "id": "0d4e1ee3",
   "metadata": {},
   "outputs": [
    {
     "data": {
      "text/html": [
       "<div>\n",
       "<style scoped>\n",
       "    .dataframe tbody tr th:only-of-type {\n",
       "        vertical-align: middle;\n",
       "    }\n",
       "\n",
       "    .dataframe tbody tr th {\n",
       "        vertical-align: top;\n",
       "    }\n",
       "\n",
       "    .dataframe thead th {\n",
       "        text-align: right;\n",
       "    }\n",
       "</style>\n",
       "<table border=\"1\" class=\"dataframe\">\n",
       "  <thead>\n",
       "    <tr style=\"text-align: right;\">\n",
       "      <th></th>\n",
       "      <th>RAIN</th>\n",
       "      <th>HUMN</th>\n",
       "      <th>SNOW</th>\n",
       "      <th>SKY</th>\n",
       "      <th>ONDO</th>\n",
       "      <th>WINDD</th>\n",
       "      <th>WINDS</th>\n",
       "      <th>PM10</th>\n",
       "      <th>PM25</th>\n",
       "      <th>T</th>\n",
       "      <th>W</th>\n",
       "      <th>TOTAL</th>\n",
       "    </tr>\n",
       "    <tr>\n",
       "      <th>STATION_NAME</th>\n",
       "      <th></th>\n",
       "      <th></th>\n",
       "      <th></th>\n",
       "      <th></th>\n",
       "      <th></th>\n",
       "      <th></th>\n",
       "      <th></th>\n",
       "      <th></th>\n",
       "      <th></th>\n",
       "      <th></th>\n",
       "      <th></th>\n",
       "      <th></th>\n",
       "    </tr>\n",
       "  </thead>\n",
       "  <tbody>\n",
       "    <tr>\n",
       "      <th>가락시장</th>\n",
       "      <td>0.0</td>\n",
       "      <td>44</td>\n",
       "      <td>0.0</td>\n",
       "      <td>3</td>\n",
       "      <td>-4.9</td>\n",
       "      <td>13</td>\n",
       "      <td>1.6</td>\n",
       "      <td>47</td>\n",
       "      <td>35</td>\n",
       "      <td>0</td>\n",
       "      <td>2559.875</td>\n",
       "      <td>607</td>\n",
       "    </tr>\n",
       "    <tr>\n",
       "      <th>가락시장</th>\n",
       "      <td>0.0</td>\n",
       "      <td>41</td>\n",
       "      <td>0.0</td>\n",
       "      <td>1</td>\n",
       "      <td>-3.7</td>\n",
       "      <td>13</td>\n",
       "      <td>2.5</td>\n",
       "      <td>40</td>\n",
       "      <td>25</td>\n",
       "      <td>0</td>\n",
       "      <td>2559.875</td>\n",
       "      <td>827</td>\n",
       "    </tr>\n",
       "    <tr>\n",
       "      <th>가락시장</th>\n",
       "      <td>0.0</td>\n",
       "      <td>47</td>\n",
       "      <td>0.0</td>\n",
       "      <td>3</td>\n",
       "      <td>-2.8</td>\n",
       "      <td>13</td>\n",
       "      <td>2.8</td>\n",
       "      <td>42</td>\n",
       "      <td>28</td>\n",
       "      <td>0</td>\n",
       "      <td>2559.875</td>\n",
       "      <td>1025</td>\n",
       "    </tr>\n",
       "    <tr>\n",
       "      <th>가락시장</th>\n",
       "      <td>0.0</td>\n",
       "      <td>49</td>\n",
       "      <td>0.0</td>\n",
       "      <td>3</td>\n",
       "      <td>-1.5</td>\n",
       "      <td>12</td>\n",
       "      <td>2.7</td>\n",
       "      <td>45</td>\n",
       "      <td>30</td>\n",
       "      <td>0</td>\n",
       "      <td>2559.875</td>\n",
       "      <td>938</td>\n",
       "    </tr>\n",
       "    <tr>\n",
       "      <th>가락시장</th>\n",
       "      <td>0.0</td>\n",
       "      <td>51</td>\n",
       "      <td>0.0</td>\n",
       "      <td>3</td>\n",
       "      <td>-1.7</td>\n",
       "      <td>13</td>\n",
       "      <td>3.5</td>\n",
       "      <td>42</td>\n",
       "      <td>26</td>\n",
       "      <td>0</td>\n",
       "      <td>2559.875</td>\n",
       "      <td>1058</td>\n",
       "    </tr>\n",
       "  </tbody>\n",
       "</table>\n",
       "</div>"
      ],
      "text/plain": [
       "              RAIN  HUMN  SNOW  SKY  ONDO  WINDD  WINDS  PM10  PM25  T  \\\n",
       "STATION_NAME                                                             \n",
       "가락시장           0.0    44   0.0    3  -4.9     13    1.6    47    35  0   \n",
       "가락시장           0.0    41   0.0    1  -3.7     13    2.5    40    25  0   \n",
       "가락시장           0.0    47   0.0    3  -2.8     13    2.8    42    28  0   \n",
       "가락시장           0.0    49   0.0    3  -1.5     12    2.7    45    30  0   \n",
       "가락시장           0.0    51   0.0    3  -1.7     13    3.5    42    26  0   \n",
       "\n",
       "                     W  TOTAL  \n",
       "STATION_NAME                   \n",
       "가락시장          2559.875    607  \n",
       "가락시장          2559.875    827  \n",
       "가락시장          2559.875   1025  \n",
       "가락시장          2559.875    938  \n",
       "가락시장          2559.875   1058  "
      ]
     },
     "execution_count": 37,
     "metadata": {},
     "output_type": "execute_result"
    }
   ],
   "source": [
    "total_n.head()"
   ]
  },
  {
   "cell_type": "markdown",
   "id": "d8edfa2a",
   "metadata": {},
   "source": [
    "# 로그변환 후 데이터"
   ]
  },
  {
   "cell_type": "code",
   "execution_count": 25,
   "id": "2f7c5dce",
   "metadata": {},
   "outputs": [],
   "source": [
    "X,Y=pre(tot)"
   ]
  },
  {
   "cell_type": "code",
   "execution_count": 26,
   "id": "29627ce5",
   "metadata": {},
   "outputs": [],
   "source": [
    "total=pd.concat([X,Y],axis=1)"
   ]
  },
  {
   "cell_type": "code",
   "execution_count": 27,
   "id": "c84f78d0",
   "metadata": {
    "scrolled": true
   },
   "outputs": [
    {
     "data": {
      "text/html": [
       "<div>\n",
       "<style scoped>\n",
       "    .dataframe tbody tr th:only-of-type {\n",
       "        vertical-align: middle;\n",
       "    }\n",
       "\n",
       "    .dataframe tbody tr th {\n",
       "        vertical-align: top;\n",
       "    }\n",
       "\n",
       "    .dataframe thead th {\n",
       "        text-align: right;\n",
       "    }\n",
       "</style>\n",
       "<table border=\"1\" class=\"dataframe\">\n",
       "  <thead>\n",
       "    <tr style=\"text-align: right;\">\n",
       "      <th></th>\n",
       "      <th>RAIN</th>\n",
       "      <th>HUMN</th>\n",
       "      <th>SNOW</th>\n",
       "      <th>SKY</th>\n",
       "      <th>ONDO</th>\n",
       "      <th>WINDD</th>\n",
       "      <th>WINDS</th>\n",
       "      <th>PM10</th>\n",
       "      <th>PM25</th>\n",
       "      <th>T</th>\n",
       "      <th>W</th>\n",
       "      <th>TOTAL</th>\n",
       "    </tr>\n",
       "    <tr>\n",
       "      <th>STATION_NAME</th>\n",
       "      <th></th>\n",
       "      <th></th>\n",
       "      <th></th>\n",
       "      <th></th>\n",
       "      <th></th>\n",
       "      <th></th>\n",
       "      <th></th>\n",
       "      <th></th>\n",
       "      <th></th>\n",
       "      <th></th>\n",
       "      <th></th>\n",
       "      <th></th>\n",
       "    </tr>\n",
       "  </thead>\n",
       "  <tbody>\n",
       "    <tr>\n",
       "      <th>가락시장</th>\n",
       "      <td>0.0</td>\n",
       "      <td>3.806662</td>\n",
       "      <td>0.0</td>\n",
       "      <td>1.386294</td>\n",
       "      <td>-4.9</td>\n",
       "      <td>2.639057</td>\n",
       "      <td>0.955511</td>\n",
       "      <td>3.871201</td>\n",
       "      <td>3.583519</td>\n",
       "      <td>0.0</td>\n",
       "      <td>7.848104</td>\n",
       "      <td>6.410175</td>\n",
       "    </tr>\n",
       "    <tr>\n",
       "      <th>가락시장</th>\n",
       "      <td>0.0</td>\n",
       "      <td>3.737670</td>\n",
       "      <td>0.0</td>\n",
       "      <td>0.693147</td>\n",
       "      <td>-3.7</td>\n",
       "      <td>2.639057</td>\n",
       "      <td>1.252763</td>\n",
       "      <td>3.713572</td>\n",
       "      <td>3.258097</td>\n",
       "      <td>0.0</td>\n",
       "      <td>7.848104</td>\n",
       "      <td>6.719013</td>\n",
       "    </tr>\n",
       "    <tr>\n",
       "      <th>가락시장</th>\n",
       "      <td>0.0</td>\n",
       "      <td>3.871201</td>\n",
       "      <td>0.0</td>\n",
       "      <td>1.386294</td>\n",
       "      <td>-2.8</td>\n",
       "      <td>2.639057</td>\n",
       "      <td>1.335001</td>\n",
       "      <td>3.761200</td>\n",
       "      <td>3.367296</td>\n",
       "      <td>0.0</td>\n",
       "      <td>7.848104</td>\n",
       "      <td>6.933423</td>\n",
       "    </tr>\n",
       "    <tr>\n",
       "      <th>가락시장</th>\n",
       "      <td>0.0</td>\n",
       "      <td>3.912023</td>\n",
       "      <td>0.0</td>\n",
       "      <td>1.386294</td>\n",
       "      <td>-1.5</td>\n",
       "      <td>2.564949</td>\n",
       "      <td>1.308333</td>\n",
       "      <td>3.828641</td>\n",
       "      <td>3.433987</td>\n",
       "      <td>0.0</td>\n",
       "      <td>7.848104</td>\n",
       "      <td>6.844815</td>\n",
       "    </tr>\n",
       "    <tr>\n",
       "      <th>가락시장</th>\n",
       "      <td>0.0</td>\n",
       "      <td>3.951244</td>\n",
       "      <td>0.0</td>\n",
       "      <td>1.386294</td>\n",
       "      <td>-1.7</td>\n",
       "      <td>2.639057</td>\n",
       "      <td>1.504077</td>\n",
       "      <td>3.761200</td>\n",
       "      <td>3.295837</td>\n",
       "      <td>0.0</td>\n",
       "      <td>7.848104</td>\n",
       "      <td>6.965080</td>\n",
       "    </tr>\n",
       "  </tbody>\n",
       "</table>\n",
       "</div>"
      ],
      "text/plain": [
       "              RAIN      HUMN  SNOW       SKY  ONDO     WINDD     WINDS  \\\n",
       "STATION_NAME                                                             \n",
       "가락시장           0.0  3.806662   0.0  1.386294  -4.9  2.639057  0.955511   \n",
       "가락시장           0.0  3.737670   0.0  0.693147  -3.7  2.639057  1.252763   \n",
       "가락시장           0.0  3.871201   0.0  1.386294  -2.8  2.639057  1.335001   \n",
       "가락시장           0.0  3.912023   0.0  1.386294  -1.5  2.564949  1.308333   \n",
       "가락시장           0.0  3.951244   0.0  1.386294  -1.7  2.639057  1.504077   \n",
       "\n",
       "                  PM10      PM25    T         W     TOTAL  \n",
       "STATION_NAME                                               \n",
       "가락시장          3.871201  3.583519  0.0  7.848104  6.410175  \n",
       "가락시장          3.713572  3.258097  0.0  7.848104  6.719013  \n",
       "가락시장          3.761200  3.367296  0.0  7.848104  6.933423  \n",
       "가락시장          3.828641  3.433987  0.0  7.848104  6.844815  \n",
       "가락시장          3.761200  3.295837  0.0  7.848104  6.965080  "
      ]
     },
     "execution_count": 27,
     "metadata": {},
     "output_type": "execute_result"
    }
   ],
   "source": [
    "total.head()"
   ]
  },
  {
   "cell_type": "markdown",
   "id": "18faa8f7",
   "metadata": {},
   "source": [
    "# 로그변환 전 후 왜도 및 Histplot"
   ]
  },
  {
   "cell_type": "code",
   "execution_count": 38,
   "id": "51f17d02",
   "metadata": {},
   "outputs": [
    {
     "data": {
      "text/plain": [
       "RAIN     21.202047\n",
       "HUMN      0.247945\n",
       "SNOW     49.610664\n",
       "SKY       0.104056\n",
       "ONDO     -0.290811\n",
       "WINDD    -0.640466\n",
       "WINDS     0.669217\n",
       "PM10      6.607433\n",
       "PM25      2.445244\n",
       "T         1.278027\n",
       "W         1.897053\n",
       "TOTAL     3.205975\n",
       "dtype: float64"
      ]
     },
     "execution_count": 38,
     "metadata": {},
     "output_type": "execute_result"
    }
   ],
   "source": [
    "total_n.skew()"
   ]
  },
  {
   "cell_type": "code",
   "execution_count": 29,
   "id": "ec726cd1",
   "metadata": {
    "scrolled": true
   },
   "outputs": [
    {
     "data": {
      "text/plain": [
       "RAIN      7.075277\n",
       "HUMN     -0.593687\n",
       "SNOW     44.272759\n",
       "SKY       0.000659\n",
       "ONDO     -0.290811\n",
       "WINDD    -1.291296\n",
       "WINDS    -0.312185\n",
       "PM10     -0.210985\n",
       "PM25     -0.371576\n",
       "T         1.278027\n",
       "W         0.239648\n",
       "TOTAL    -0.079852\n",
       "dtype: float64"
      ]
     },
     "execution_count": 29,
     "metadata": {},
     "output_type": "execute_result"
    }
   ],
   "source": [
    "total.skew()"
   ]
  },
  {
   "cell_type": "code",
   "execution_count": 39,
   "id": "30d04603",
   "metadata": {
    "scrolled": false
   },
   "outputs": [
    {
     "data": {
      "image/png": "[encoded data removed]",
      "text/plain": [
       "<Figure size 432x288 with 2 Axes>"
      ]
     },
     "metadata": {
      "needs_background": "light"
     },
     "output_type": "display_data"
    },
    {
     "data": {
      "image/png": "[encoded data removed]",
      "text/plain": [
       "<Figure size 432x288 with 2 Axes>"
      ]
     },
     "metadata": {
      "needs_background": "light"
     },
     "output_type": "display_data"
    },
    {
     "data": {
      "image/png": "[encoded data removed]",
      "text/plain": [
       "<Figure size 432x288 with 2 Axes>"
      ]
     },
     "metadata": {
      "needs_background": "light"
     },
     "output_type": "display_data"
    },
    {
     "data": {
      "image/png": "[encoded data removed]",
      "text/plain": [
       "<Figure size 432x288 with 2 Axes>"
      ]
     },
     "metadata": {
      "needs_background": "light"
     },
     "output_type": "display_data"
    },
    {
     "data": {
      "image/png": "[encoded data removed]",
      "text/plain": [
       "<Figure size 432x288 with 2 Axes>"
      ]
     },
     "metadata": {
      "needs_background": "light"
     },
     "output_type": "display_data"
    },
    {
     "data": {
      "image/png": "[encoded data removed]",
      "text/plain": [
       "<Figure size 432x288 with 2 Axes>"
      ]
     },
     "metadata": {
      "needs_background": "light"
     },
     "output_type": "display_data"
    },
    {
     "data": {
      "image/png": "[encoded data removed]",
      "text/plain": [
       "<Figure size 432x288 with 2 Axes>"
      ]
     },
     "metadata": {
      "needs_background": "light"
     },
     "output_type": "display_data"
    },
    {
     "data": {
      "image/png": "[encoded data removed]",
      "text/plain": [
       "<Figure size 432x288 with 2 Axes>"
      ]
     },
     "metadata": {
      "needs_background": "light"
     },
     "output_type": "display_data"
    },
    {
     "data": {
      "image/png": "[encoded data removed]",
      "text/plain": [
       "<Figure size 432x288 with 2 Axes>"
      ]
     },
     "metadata": {
      "needs_background": "light"
     },
     "output_type": "display_data"
    },
    {
     "data": {
      "image/png": "[encoded data removed]",
      "text/plain": [
       "<Figure size 432x288 with 2 Axes>"
      ]
     },
     "metadata": {
      "needs_background": "light"
     },
     "output_type": "display_data"
    },
    {
     "data": {
      "image/png": "[encoded data removed]",
      "text/plain": [
       "<Figure size 432x288 with 2 Axes>"
      ]
     },
     "metadata": {
      "needs_background": "light"
     },
     "output_type": "display_data"
    },
    {
     "data": {
      "image/png": "[encoded data removed]",
      "text/plain": [
       "<Figure size 432x288 with 2 Axes>"
      ]
     },
     "metadata": {
      "needs_background": "light"
     },
     "output_type": "display_data"
    }
   ],
   "source": [
    "for i in total_n:\n",
    "    fig, axs = plt.subplots(1,2)\n",
    "    plt.subplots_adjust(wspace=0.5)\n",
    "#     sns.histplot(total_n[i],ax=axs[0],bins=10)\n",
    "#     plt.y\n",
    "#     sns.histplot(total[i],ax=axs[1],bins=10)\n",
    "    axs[0].hist(total_n[i])\n",
    "    axs[0].set_title(i)\n",
    "    axs[1].hist(total[i],color='#F95757')\n",
    "    axs[1].set_title(i+'_log')\n",
    "    plt.show()"
   ]
  },
  {
   "cell_type": "markdown",
   "id": "11694b38",
   "metadata": {},
   "source": [
    "## 다중 공선성"
   ]
  },
  {
   "cell_type": "code",
   "execution_count": 41,
   "id": "1c1c5f23",
   "metadata": {},
   "outputs": [
    {
     "data": {
      "text/html": [
       "<div>\n",
       "<style scoped>\n",
       "    .dataframe tbody tr th:only-of-type {\n",
       "        vertical-align: middle;\n",
       "    }\n",
       "\n",
       "    .dataframe tbody tr th {\n",
       "        vertical-align: top;\n",
       "    }\n",
       "\n",
       "    .dataframe thead th {\n",
       "        text-align: right;\n",
       "    }\n",
       "</style>\n",
       "<table border=\"1\" class=\"dataframe\">\n",
       "  <thead>\n",
       "    <tr style=\"text-align: right;\">\n",
       "      <th></th>\n",
       "      <th>features</th>\n",
       "      <th>VIF Factor</th>\n",
       "    </tr>\n",
       "  </thead>\n",
       "  <tbody>\n",
       "    <tr>\n",
       "      <th>0</th>\n",
       "      <td>RAIN</td>\n",
       "      <td>1.170889</td>\n",
       "    </tr>\n",
       "    <tr>\n",
       "      <th>1</th>\n",
       "      <td>HUMN</td>\n",
       "      <td>82.666651</td>\n",
       "    </tr>\n",
       "    <tr>\n",
       "      <th>2</th>\n",
       "      <td>SNOW</td>\n",
       "      <td>1.012652</td>\n",
       "    </tr>\n",
       "    <tr>\n",
       "      <th>3</th>\n",
       "      <td>SKY</td>\n",
       "      <td>10.606992</td>\n",
       "    </tr>\n",
       "    <tr>\n",
       "      <th>4</th>\n",
       "      <td>ONDO</td>\n",
       "      <td>3.551380</td>\n",
       "    </tr>\n",
       "    <tr>\n",
       "      <th>5</th>\n",
       "      <td>WINDD</td>\n",
       "      <td>16.002021</td>\n",
       "    </tr>\n",
       "    <tr>\n",
       "      <th>6</th>\n",
       "      <td>WINDS</td>\n",
       "      <td>16.492945</td>\n",
       "    </tr>\n",
       "    <tr>\n",
       "      <th>7</th>\n",
       "      <td>PM10</td>\n",
       "      <td>112.489837</td>\n",
       "    </tr>\n",
       "    <tr>\n",
       "      <th>8</th>\n",
       "      <td>PM25</td>\n",
       "      <td>70.746769</td>\n",
       "    </tr>\n",
       "    <tr>\n",
       "      <th>9</th>\n",
       "      <td>T</td>\n",
       "      <td>1.323293</td>\n",
       "    </tr>\n",
       "    <tr>\n",
       "      <th>10</th>\n",
       "      <td>W</td>\n",
       "      <td>82.355420</td>\n",
       "    </tr>\n",
       "  </tbody>\n",
       "</table>\n",
       "</div>"
      ],
      "text/plain": [
       "   features  VIF Factor\n",
       "0      RAIN    1.170889\n",
       "1      HUMN   82.666651\n",
       "2      SNOW    1.012652\n",
       "3       SKY   10.606992\n",
       "4      ONDO    3.551380\n",
       "5     WINDD   16.002021\n",
       "6     WINDS   16.492945\n",
       "7      PM10  112.489837\n",
       "8      PM25   70.746769\n",
       "9         T    1.323293\n",
       "10        W   82.355420"
      ]
     },
     "execution_count": 41,
     "metadata": {},
     "output_type": "execute_result"
    }
   ],
   "source": [
    "from statsmodels.stats.outliers_influence import variance_inflation_factor\n",
    "\n",
    "def vif_df(x):\n",
    "    vif = pd.DataFrame()\n",
    "    vif[\"features\"] = X.columns\n",
    "    vif[\"VIF Factor\"] = [variance_inflation_factor(X.values, i) for i in range(X.shape[1])]\n",
    "    \n",
    "    return vif\n",
    "\n",
    "df=vif_df(X)\n",
    "\n",
    "df\n",
    "# vif값이 10을 넘는 변수가 없으므로 다중공선성 문제 없음data=glob('./data/final*')"
   ]
  },
  {
   "cell_type": "markdown",
   "id": "ddac5b3c",
   "metadata": {},
   "source": [
    "## 회귀 모델링"
   ]
  },
  {
   "cell_type": "code",
   "execution_count": 126,
   "id": "0aa0300f",
   "metadata": {},
   "outputs": [],
   "source": [
    "def lr_eval(X,Y,method=None):\n",
    "    global X_train, X_test, y_train, y_test\n",
    "    X_train, X_test, y_train, y_test = train_test_split(X, Y, test_size=0.2, shuffle=True)\n",
    "    if method==None:\n",
    "        lr=LinearRegression()\n",
    "        lr.fit(X_train,y_train)\n",
    "\n",
    "        pred=lr.predict(X_train)\n",
    "        pred_t=lr.predict(X_test)\n",
    "        \n",
    "\n",
    "#     elif method=='Poly':\n",
    "#         poly=Pipeline([('poly',PolynomialFeatures(degree=2)),\n",
    "#                       ('linear',LinearRegression())])\n",
    "#         lr=poly.fit(X_train,y_train)\n",
    "        \n",
    "#         pred=lr.predict(X_train)\n",
    "#         pred_t=lr.predict(X_test)\n",
    "\n",
    "    print('Train Data MSE : {0}, MAE : {1}'.format(mean_squared_error(y_train,pred),mean_absolute_error(y_train,pred)))\n",
    "    print('Test Data MSE : {0}, MAE : {1}'.format(mean_squared_error(y_test,pred_t),mean_absolute_error(y_test,pred_t)))\n",
    "    return lr"
   ]
  },
  {
   "cell_type": "code",
   "execution_count": 131,
   "id": "783eb602",
   "metadata": {},
   "outputs": [],
   "source": [
    "X_drop=X.drop(['T'],axis=1)"
   ]
  },
  {
   "cell_type": "code",
   "execution_count": 133,
   "id": "f923c214",
   "metadata": {
    "scrolled": true
   },
   "outputs": [
    {
     "name": "stdout",
     "output_type": "stream",
     "text": [
      "Train Data MSE : 0.30581270323639675, MAE : 0.4149984508146742\n",
      "Test Data MSE : 0.3066347347703004, MAE : 0.41506560315784774\n"
     ]
    }
   ],
   "source": [
    "lr_drop=lr_eval(X_drop,Y)"
   ]
  },
  {
   "cell_type": "code",
   "execution_count": 130,
   "id": "a76ae3d5",
   "metadata": {
    "scrolled": true
   },
   "outputs": [
    {
     "name": "stdout",
     "output_type": "stream",
     "text": [
      "Train Data MSE : 0.26186214238942457, MAE : 0.38159704826805907\n",
      "Test Data MSE : 0.2619874525209276, MAE : 0.3814228249120615\n"
     ]
    }
   ],
   "source": [
    "lr=lr_eval(X,Y)"
   ]
  }
 ],
 "metadata": {
  "kernelspec": {
   "display_name": "Python 3 (ipykernel)",
   "language": "python",
   "name": "python3"
  },
  "language_info": {
   "codemirror_mode": {
    "name": "ipython",
    "version": 3
   },
   "file_extension": ".py",
   "mimetype": "text/x-python",
   "name": "python",
   "nbconvert_exporter": "python",
   "pygments_lexer": "ipython3",
   "version": "3.9.12"
  }
 },
 "nbformat": 4,
 "nbformat_minor": 5
}
