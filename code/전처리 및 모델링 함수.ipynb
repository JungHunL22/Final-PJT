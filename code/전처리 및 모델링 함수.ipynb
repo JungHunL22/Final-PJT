{
 "cells": [
  {
   "cell_type": "code",
   "execution_count": 2,
   "id": "8e1709c0",
   "metadata": {},
   "outputs": [],
   "source": [
    "import pandas as pd\n",
    "import numpy as np\n",
    "import seaborn as sns\n",
    "import matplotlib.pyplot as plt\n",
    "import seaborn as sns\n",
    "from glob import glob"
   ]
  },
  {
   "cell_type": "code",
   "execution_count": 3,
   "id": "dbb0f7f1",
   "metadata": {},
   "outputs": [],
   "source": [
    "from sklearn.preprocessing import MinMaxScaler , PolynomialFeatures\n",
    "from sklearn.metrics import mean_squared_error,mean_absolute_error,r2_score\n",
    "from sklearn.linear_model import LinearRegression\n",
    "from sklearn.model_selection import train_test_split\n",
    "from sklearn.pipeline import Pipeline"
   ]
  },
  {
   "cell_type": "code",
   "execution_count": 4,
   "id": "0971436c",
   "metadata": {},
   "outputs": [],
   "source": [
    "# 한글 문제\n",
    "# matplotlit의 기본 폰트에서 한글 지원되지 않기 때문에\n",
    "# matplotlib의 폰트 변경 필요\n",
    "import platform\n",
    "\n",
    "from matplotlib import font_manager, rc\n",
    "plt.rcParams['axes.unicode_minus'] = False\n",
    "\n",
    "if platform.system() == 'Darwin':  # 맥OS \n",
    "    rc('font', family='AppleGothic')\n",
    "elif platform.system() == 'Windows':  # 윈도우\n",
    "    path = \"c:/Windows/Fonts/malgun.ttf\"\n",
    "    font_name = font_manager.FontProperties(fname=path).get_name()\n",
    "    rc('font', family=font_name)\n",
    "else:\n",
    "    print('Unknown system...  sorry~~~')"
   ]
  },
  {
   "cell_type": "code",
   "execution_count": 5,
   "id": "1c1c5f23",
   "metadata": {},
   "outputs": [],
   "source": [
    "data=glob('./data/final*')"
   ]
  },
  {
   "cell_type": "code",
   "execution_count": 6,
   "id": "1adac731",
   "metadata": {},
   "outputs": [
    {
     "data": {
      "text/plain": [
       "['./data\\\\final_2019.csv',\n",
       " './data\\\\final_2020.csv',\n",
       " './data\\\\final_2021_1.csv',\n",
       " './data\\\\final_2021_2.csv']"
      ]
     },
     "execution_count": 6,
     "metadata": {},
     "output_type": "execute_result"
    }
   ],
   "source": [
    "data"
   ]
  },
  {
   "cell_type": "code",
   "execution_count": 7,
   "id": "4a542b3d",
   "metadata": {},
   "outputs": [],
   "source": [
    "# 연도별 데이터 통합\n",
    "def load():\n",
    "    data=glob('./data/final*')\n",
    "    total=[]\n",
    "    for i in data:\n",
    "        total.append(pd.read_csv(i,encoding='cp949'))\n",
    "    tot=pd.concat(total,axis=0)\n",
    "    return tot"
   ]
  },
  {
   "cell_type": "code",
   "execution_count": 8,
   "id": "5af4d073",
   "metadata": {},
   "outputs": [],
   "source": [
    "tot=load()"
   ]
  },
  {
   "cell_type": "code",
   "execution_count": 9,
   "id": "e9b8dfd3",
   "metadata": {},
   "outputs": [
    {
     "data": {
      "text/html": [
       "<div>\n",
       "<style scoped>\n",
       "    .dataframe tbody tr th:only-of-type {\n",
       "        vertical-align: middle;\n",
       "    }\n",
       "\n",
       "    .dataframe tbody tr th {\n",
       "        vertical-align: top;\n",
       "    }\n",
       "\n",
       "    .dataframe thead th {\n",
       "        text-align: right;\n",
       "    }\n",
       "</style>\n",
       "<table border=\"1\" class=\"dataframe\">\n",
       "  <thead>\n",
       "    <tr style=\"text-align: right;\">\n",
       "      <th></th>\n",
       "      <th>DAY</th>\n",
       "      <th>TIME</th>\n",
       "      <th>STATION_NAME</th>\n",
       "      <th>GU</th>\n",
       "      <th>UP_POP</th>\n",
       "      <th>DOWN_POP</th>\n",
       "      <th>RAIN</th>\n",
       "      <th>HUMN</th>\n",
       "      <th>SNOW</th>\n",
       "      <th>SKY</th>\n",
       "      <th>ONDO</th>\n",
       "      <th>WINDD</th>\n",
       "      <th>WINDS</th>\n",
       "      <th>PM10</th>\n",
       "      <th>PM25</th>\n",
       "    </tr>\n",
       "  </thead>\n",
       "  <tbody>\n",
       "    <tr>\n",
       "      <th>0</th>\n",
       "      <td>19/01/01</td>\n",
       "      <td>10:00</td>\n",
       "      <td>가락시장</td>\n",
       "      <td>송파구</td>\n",
       "      <td>300</td>\n",
       "      <td>307</td>\n",
       "      <td>0.0</td>\n",
       "      <td>44</td>\n",
       "      <td>0.0</td>\n",
       "      <td>3</td>\n",
       "      <td>-4.9</td>\n",
       "      <td>13</td>\n",
       "      <td>1.6</td>\n",
       "      <td>47</td>\n",
       "      <td>35</td>\n",
       "    </tr>\n",
       "    <tr>\n",
       "      <th>1</th>\n",
       "      <td>19/01/01</td>\n",
       "      <td>11:00</td>\n",
       "      <td>가락시장</td>\n",
       "      <td>송파구</td>\n",
       "      <td>377</td>\n",
       "      <td>450</td>\n",
       "      <td>0.0</td>\n",
       "      <td>41</td>\n",
       "      <td>0.0</td>\n",
       "      <td>1</td>\n",
       "      <td>-3.7</td>\n",
       "      <td>13</td>\n",
       "      <td>2.5</td>\n",
       "      <td>40</td>\n",
       "      <td>25</td>\n",
       "    </tr>\n",
       "    <tr>\n",
       "      <th>2</th>\n",
       "      <td>19/01/01</td>\n",
       "      <td>12:00</td>\n",
       "      <td>가락시장</td>\n",
       "      <td>송파구</td>\n",
       "      <td>527</td>\n",
       "      <td>498</td>\n",
       "      <td>0.0</td>\n",
       "      <td>47</td>\n",
       "      <td>0.0</td>\n",
       "      <td>3</td>\n",
       "      <td>-2.8</td>\n",
       "      <td>13</td>\n",
       "      <td>2.8</td>\n",
       "      <td>42</td>\n",
       "      <td>28</td>\n",
       "    </tr>\n",
       "    <tr>\n",
       "      <th>3</th>\n",
       "      <td>19/01/01</td>\n",
       "      <td>13:00</td>\n",
       "      <td>가락시장</td>\n",
       "      <td>송파구</td>\n",
       "      <td>485</td>\n",
       "      <td>453</td>\n",
       "      <td>0.0</td>\n",
       "      <td>49</td>\n",
       "      <td>0.0</td>\n",
       "      <td>3</td>\n",
       "      <td>-1.5</td>\n",
       "      <td>12</td>\n",
       "      <td>2.7</td>\n",
       "      <td>45</td>\n",
       "      <td>30</td>\n",
       "    </tr>\n",
       "    <tr>\n",
       "      <th>4</th>\n",
       "      <td>19/01/01</td>\n",
       "      <td>14:00</td>\n",
       "      <td>가락시장</td>\n",
       "      <td>송파구</td>\n",
       "      <td>562</td>\n",
       "      <td>496</td>\n",
       "      <td>0.0</td>\n",
       "      <td>51</td>\n",
       "      <td>0.0</td>\n",
       "      <td>3</td>\n",
       "      <td>-1.7</td>\n",
       "      <td>13</td>\n",
       "      <td>3.5</td>\n",
       "      <td>42</td>\n",
       "      <td>26</td>\n",
       "    </tr>\n",
       "  </tbody>\n",
       "</table>\n",
       "</div>"
      ],
      "text/plain": [
       "        DAY   TIME STATION_NAME   GU  UP_POP  DOWN_POP  RAIN  HUMN  SNOW  SKY  \\\n",
       "0  19/01/01  10:00         가락시장  송파구     300       307   0.0    44   0.0    3   \n",
       "1  19/01/01  11:00         가락시장  송파구     377       450   0.0    41   0.0    1   \n",
       "2  19/01/01  12:00         가락시장  송파구     527       498   0.0    47   0.0    3   \n",
       "3  19/01/01  13:00         가락시장  송파구     485       453   0.0    49   0.0    3   \n",
       "4  19/01/01  14:00         가락시장  송파구     562       496   0.0    51   0.0    3   \n",
       "\n",
       "   ONDO  WINDD  WINDS  PM10  PM25  \n",
       "0  -4.9     13    1.6    47    35  \n",
       "1  -3.7     13    2.5    40    25  \n",
       "2  -2.8     13    2.8    42    28  \n",
       "3  -1.5     12    2.7    45    30  \n",
       "4  -1.7     13    3.5    42    26  "
      ]
     },
     "execution_count": 9,
     "metadata": {},
     "output_type": "execute_result"
    }
   ],
   "source": [
    "tot.head()"
   ]
  },
  {
   "cell_type": "code",
   "execution_count": 15,
   "id": "f990f8f6",
   "metadata": {},
   "outputs": [],
   "source": [
    "graph=feat(tot)"
   ]
  },
  {
   "cell_type": "code",
   "execution_count": 53,
   "id": "25860191",
   "metadata": {},
   "outputs": [
    {
     "name": "stderr",
     "output_type": "stream",
     "text": [
      "C:\\ProgramData\\Anaconda3\\lib\\site-packages\\seaborn\\_decorators.py:36: FutureWarning: Pass the following variables as keyword args: x, y. From version 0.12, the only valid positional argument will be `data`, and passing other arguments without an explicit keyword will result in an error or misinterpretation.\n",
      "  warnings.warn(\n"
     ]
    },
    {
     "data": {
      "image/png": "[encoded data removed]",
      "text/plain": [
       "<Figure size 432x288 with 1 Axes>"
      ]
     },
     "metadata": {
      "needs_background": "light"
     },
     "output_type": "display_data"
    }
   ],
   "source": [
    "v=visual(graph)"
   ]
  },
  {
   "cell_type": "code",
   "execution_count": 54,
   "id": "90ab400b",
   "metadata": {},
   "outputs": [
    {
     "data": {
      "text/html": [
       "<div>\n",
       "<style scoped>\n",
       "    .dataframe tbody tr th:only-of-type {\n",
       "        vertical-align: middle;\n",
       "    }\n",
       "\n",
       "    .dataframe tbody tr th {\n",
       "        vertical-align: top;\n",
       "    }\n",
       "\n",
       "    .dataframe thead th {\n",
       "        text-align: right;\n",
       "    }\n",
       "</style>\n",
       "<table border=\"1\" class=\"dataframe\">\n",
       "  <thead>\n",
       "    <tr style=\"text-align: right;\">\n",
       "      <th></th>\n",
       "      <th>TOTAL</th>\n",
       "    </tr>\n",
       "    <tr>\n",
       "      <th>TIME</th>\n",
       "      <th></th>\n",
       "    </tr>\n",
       "  </thead>\n",
       "  <tbody>\n",
       "    <tr>\n",
       "      <th>10</th>\n",
       "      <td>364981246</td>\n",
       "    </tr>\n",
       "    <tr>\n",
       "      <th>11</th>\n",
       "      <td>350356289</td>\n",
       "    </tr>\n",
       "    <tr>\n",
       "      <th>12</th>\n",
       "      <td>373438352</td>\n",
       "    </tr>\n",
       "    <tr>\n",
       "      <th>13</th>\n",
       "      <td>401892627</td>\n",
       "    </tr>\n",
       "    <tr>\n",
       "      <th>14</th>\n",
       "      <td>400780541</td>\n",
       "    </tr>\n",
       "    <tr>\n",
       "      <th>15</th>\n",
       "      <td>430419457</td>\n",
       "    </tr>\n",
       "    <tr>\n",
       "      <th>16</th>\n",
       "      <td>486368886</td>\n",
       "    </tr>\n",
       "    <tr>\n",
       "      <th>17</th>\n",
       "      <td>626174582</td>\n",
       "    </tr>\n",
       "    <tr>\n",
       "      <th>18</th>\n",
       "      <td>860808776</td>\n",
       "    </tr>\n",
       "    <tr>\n",
       "      <th>19</th>\n",
       "      <td>568567439</td>\n",
       "    </tr>\n",
       "    <tr>\n",
       "      <th>20</th>\n",
       "      <td>378982417</td>\n",
       "    </tr>\n",
       "    <tr>\n",
       "      <th>21</th>\n",
       "      <td>354009345</td>\n",
       "    </tr>\n",
       "    <tr>\n",
       "      <th>22</th>\n",
       "      <td>298119134</td>\n",
       "    </tr>\n",
       "  </tbody>\n",
       "</table>\n",
       "</div>"
      ],
      "text/plain": [
       "          TOTAL\n",
       "TIME           \n",
       "10    364981246\n",
       "11    350356289\n",
       "12    373438352\n",
       "13    401892627\n",
       "14    400780541\n",
       "15    430419457\n",
       "16    486368886\n",
       "17    626174582\n",
       "18    860808776\n",
       "19    568567439\n",
       "20    378982417\n",
       "21    354009345\n",
       "22    298119134"
      ]
     },
     "execution_count": 54,
     "metadata": {},
     "output_type": "execute_result"
    }
   ],
   "source": [
    "v"
   ]
  },
  {
   "cell_type": "markdown",
   "id": "3edcf20d",
   "metadata": {},
   "source": [
    "## 가중치컬럼 test"
   ]
  },
  {
   "cell_type": "code",
   "execution_count": 25,
   "id": "995f47f6",
   "metadata": {},
   "outputs": [],
   "source": [
    "w=pd.pivot_table(graph,index=['STATION_NAME'],values='TOTAL')"
   ]
  },
  {
   "cell_type": "code",
   "execution_count": 26,
   "id": "2ca8c007",
   "metadata": {},
   "outputs": [],
   "source": [
    "sum_t=sum(w['TOTAL'])"
   ]
  },
  {
   "cell_type": "code",
   "execution_count": 66,
   "id": "3f8a459b",
   "metadata": {},
   "outputs": [],
   "source": [
    "sub=np.log1p(w).sort_values('TOTAL',ascending=False)[:5]"
   ]
  },
  {
   "cell_type": "code",
   "execution_count": 67,
   "id": "831b78f6",
   "metadata": {},
   "outputs": [
    {
     "data": {
      "text/plain": [
       "<AxesSubplot:xlabel='STATION_NAME', ylabel='TOTAL'>"
      ]
     },
     "execution_count": 67,
     "metadata": {},
     "output_type": "execute_result"
    },
    {
     "data": {
      "image/png": "[encoded data removed]",
      "text/plain": [
       "<Figure size 432x288 with 1 Axes>"
      ]
     },
     "metadata": {
      "needs_background": "light"
     },
     "output_type": "display_data"
    }
   ],
   "source": [
    "sns.barplot(x=sub.index,y=sub['TOTAL'])"
   ]
  },
  {
   "cell_type": "code",
   "execution_count": 78,
   "id": "e1156b22",
   "metadata": {},
   "outputs": [],
   "source": [
    "sub_x=pd.concat([sub,sub2],axis=0).round(3)"
   ]
  },
  {
   "cell_type": "code",
   "execution_count": 79,
   "id": "ea22097c",
   "metadata": {},
   "outputs": [
    {
     "data": {
      "text/html": [
       "<div>\n",
       "<style scoped>\n",
       "    .dataframe tbody tr th:only-of-type {\n",
       "        vertical-align: middle;\n",
       "    }\n",
       "\n",
       "    .dataframe tbody tr th {\n",
       "        vertical-align: top;\n",
       "    }\n",
       "\n",
       "    .dataframe thead th {\n",
       "        text-align: right;\n",
       "    }\n",
       "</style>\n",
       "<table border=\"1\" class=\"dataframe\">\n",
       "  <thead>\n",
       "    <tr style=\"text-align: right;\">\n",
       "      <th></th>\n",
       "      <th>TOTAL</th>\n",
       "    </tr>\n",
       "    <tr>\n",
       "      <th>STATION_NAME</th>\n",
       "      <th></th>\n",
       "    </tr>\n",
       "  </thead>\n",
       "  <tbody>\n",
       "    <tr>\n",
       "      <th>잠실</th>\n",
       "      <td>9.022</td>\n",
       "    </tr>\n",
       "    <tr>\n",
       "      <th>강남</th>\n",
       "      <td>8.960</td>\n",
       "    </tr>\n",
       "    <tr>\n",
       "      <th>홍대입구</th>\n",
       "      <td>8.786</td>\n",
       "    </tr>\n",
       "    <tr>\n",
       "      <th>사당</th>\n",
       "      <td>8.742</td>\n",
       "    </tr>\n",
       "    <tr>\n",
       "      <th>고속터미널</th>\n",
       "      <td>8.742</td>\n",
       "    </tr>\n",
       "    <tr>\n",
       "      <th>남태령</th>\n",
       "      <td>5.970</td>\n",
       "    </tr>\n",
       "    <tr>\n",
       "      <th>학여울</th>\n",
       "      <td>5.955</td>\n",
       "    </tr>\n",
       "    <tr>\n",
       "      <th>용답</th>\n",
       "      <td>5.928</td>\n",
       "    </tr>\n",
       "    <tr>\n",
       "      <th>창신</th>\n",
       "      <td>5.912</td>\n",
       "    </tr>\n",
       "    <tr>\n",
       "      <th>신길</th>\n",
       "      <td>5.869</td>\n",
       "    </tr>\n",
       "  </tbody>\n",
       "</table>\n",
       "</div>"
      ],
      "text/plain": [
       "              TOTAL\n",
       "STATION_NAME       \n",
       "잠실            9.022\n",
       "강남            8.960\n",
       "홍대입구          8.786\n",
       "사당            8.742\n",
       "고속터미널         8.742\n",
       "남태령           5.970\n",
       "학여울           5.955\n",
       "용답            5.928\n",
       "창신            5.912\n",
       "신길            5.869"
      ]
     },
     "execution_count": 79,
     "metadata": {},
     "output_type": "execute_result"
    }
   ],
   "source": [
    "sub_x"
   ]
  },
  {
   "cell_type": "code",
   "execution_count": 68,
   "id": "bb1471fd",
   "metadata": {},
   "outputs": [],
   "source": [
    "sub2=np.log1p(w).sort_values('TOTAL',ascending=False)[-5:]"
   ]
  },
  {
   "cell_type": "code",
   "execution_count": 69,
   "id": "8b62a546",
   "metadata": {},
   "outputs": [
    {
     "data": {
      "text/plain": [
       "<AxesSubplot:xlabel='STATION_NAME', ylabel='TOTAL'>"
      ]
     },
     "execution_count": 69,
     "metadata": {},
     "output_type": "execute_result"
    },
    {
     "data": {
      "image/png": "[encoded data removed]",
      "text/plain": [
       "<Figure size 432x288 with 1 Axes>"
      ]
     },
     "metadata": {
      "needs_background": "light"
     },
     "output_type": "display_data"
    }
   ],
   "source": [
    "sns.barplot(x=sub2.index,y=sub2['TOTAL'])"
   ]
  },
  {
   "cell_type": "code",
   "execution_count": 82,
   "id": "88639063",
   "metadata": {},
   "outputs": [
    {
     "data": {
      "text/plain": [
       "(array([0, 1, 2, 3, 4, 5, 6, 7, 8, 9]),\n",
       " [Text(0, 0, '잠실'),\n",
       "  Text(1, 0, '강남'),\n",
       "  Text(2, 0, '홍대입구'),\n",
       "  Text(3, 0, '사당'),\n",
       "  Text(4, 0, '고속터미널'),\n",
       "  Text(5, 0, '남태령'),\n",
       "  Text(6, 0, '학여울'),\n",
       "  Text(7, 0, '용답'),\n",
       "  Text(8, 0, '창신'),\n",
       "  Text(9, 0, '신길')])"
      ]
     },
     "execution_count": 82,
     "metadata": {},
     "output_type": "execute_result"
    },
    {
     "data": {
      "image/png": "[encoded data removed]",
      "text/plain": [
       "<Figure size 432x288 with 1 Axes>"
      ]
     },
     "metadata": {
      "needs_background": "light"
     },
     "output_type": "display_data"
    }
   ],
   "source": [
    "sns.barplot(x=sub_x.index,y=sub_x['TOTAL'])\n",
    "for i, v in enumerate(sub_x.index):\n",
    "    if i<5:\n",
    "        plt.text(i, sub_x['TOTAL'][i],sub_x['TOTAL'][i],                 # 좌표 (x축 = i, y축 = y[0]..y[1], 표시 = y[0]..y[1])\n",
    "                 fontsize = 9, \n",
    "                 color='red',\n",
    "                 horizontalalignment='center',  # horizontalalignment (left, center, right)\n",
    "                 verticalalignment='bottom')    # verticalalignment (top, center, bottom)\n",
    "    else :\n",
    "        plt.text(i, sub_x['TOTAL'][i],sub_x['TOTAL'][i],                 # 좌표 (x축 = i, y축 = y[0]..y[1], 표시 = y[0]..y[1])\n",
    "         fontsize = 9, \n",
    "         color='blue',\n",
    "         horizontalalignment='center',  # horizontalalignment (left, center, right)\n",
    "         verticalalignment='bottom') \n",
    "        \n",
    "plt.title('가중치 상,하위 5개역')\n",
    "plt.xticks(rotation=45)"
   ]
  },
  {
   "cell_type": "code",
   "execution_count": 27,
   "id": "d563f672",
   "metadata": {},
   "outputs": [],
   "source": [
    "W_test=w/sum_t"
   ]
  },
  {
   "cell_type": "code",
   "execution_count": 48,
   "id": "f4156bb0",
   "metadata": {},
   "outputs": [
    {
     "data": {
      "text/html": [
       "<div>\n",
       "<style scoped>\n",
       "    .dataframe tbody tr th:only-of-type {\n",
       "        vertical-align: middle;\n",
       "    }\n",
       "\n",
       "    .dataframe tbody tr th {\n",
       "        vertical-align: top;\n",
       "    }\n",
       "\n",
       "    .dataframe thead th {\n",
       "        text-align: right;\n",
       "    }\n",
       "</style>\n",
       "<table border=\"1\" class=\"dataframe\">\n",
       "  <thead>\n",
       "    <tr style=\"text-align: right;\">\n",
       "      <th></th>\n",
       "      <th>TOTAL</th>\n",
       "    </tr>\n",
       "    <tr>\n",
       "      <th>STATION_NAME</th>\n",
       "      <th></th>\n",
       "    </tr>\n",
       "  </thead>\n",
       "  <tbody>\n",
       "    <tr>\n",
       "      <th>신길</th>\n",
       "      <td>0.000853</td>\n",
       "    </tr>\n",
       "    <tr>\n",
       "      <th>창신</th>\n",
       "      <td>0.000890</td>\n",
       "    </tr>\n",
       "    <tr>\n",
       "      <th>용답</th>\n",
       "      <td>0.000905</td>\n",
       "    </tr>\n",
       "    <tr>\n",
       "      <th>학여울</th>\n",
       "      <td>0.000930</td>\n",
       "    </tr>\n",
       "    <tr>\n",
       "      <th>남태령</th>\n",
       "      <td>0.000944</td>\n",
       "    </tr>\n",
       "    <tr>\n",
       "      <th>...</th>\n",
       "      <td>...</td>\n",
       "    </tr>\n",
       "    <tr>\n",
       "      <th>고속터미널</th>\n",
       "      <td>0.015122</td>\n",
       "    </tr>\n",
       "    <tr>\n",
       "      <th>사당</th>\n",
       "      <td>0.015126</td>\n",
       "    </tr>\n",
       "    <tr>\n",
       "      <th>홍대입구</th>\n",
       "      <td>0.015813</td>\n",
       "    </tr>\n",
       "    <tr>\n",
       "      <th>강남</th>\n",
       "      <td>0.018819</td>\n",
       "    </tr>\n",
       "    <tr>\n",
       "      <th>잠실</th>\n",
       "      <td>0.020014</td>\n",
       "    </tr>\n",
       "  </tbody>\n",
       "</table>\n",
       "<p>223 rows × 1 columns</p>\n",
       "</div>"
      ],
      "text/plain": [
       "                 TOTAL\n",
       "STATION_NAME          \n",
       "신길            0.000853\n",
       "창신            0.000890\n",
       "용답            0.000905\n",
       "학여울           0.000930\n",
       "남태령           0.000944\n",
       "...                ...\n",
       "고속터미널         0.015122\n",
       "사당            0.015126\n",
       "홍대입구          0.015813\n",
       "강남            0.018819\n",
       "잠실            0.020014\n",
       "\n",
       "[223 rows x 1 columns]"
      ]
     },
     "execution_count": 48,
     "metadata": {},
     "output_type": "execute_result"
    }
   ],
   "source": [
    "W_test.sort_values('TOTAL')"
   ]
  },
  {
   "cell_type": "code",
   "execution_count": null,
   "id": "6977b469",
   "metadata": {},
   "outputs": [],
   "source": []
  },
  {
   "cell_type": "markdown",
   "id": "80feb3eb",
   "metadata": {},
   "source": [
    "# 전처리 함수"
   ]
  },
  {
   "cell_type": "code",
   "execution_count": 52,
   "id": "9a541a73",
   "metadata": {},
   "outputs": [],
   "source": [
    "# 시간대별 지하철 이용객수 그래프\n",
    "def visual(df):\n",
    "    df2=df.copy()\n",
    "    df2=feat(df2)\n",
    "    df2['TIME']=[int(i.split(':')[0]) for i in df2['TIME']]\n",
    "    pivot=pd.pivot_table(df2,index='TIME',values='TOTAL',aggfunc='sum')\n",
    "\n",
    "    sns.barplot(pivot.index,pivot['TOTAL'])\n",
    "    return(pivot)"
   ]
  },
  {
   "cell_type": "code",
   "execution_count": 12,
   "id": "865a394e",
   "metadata": {},
   "outputs": [],
   "source": [
    "# 합계와 시간대 컬럼 생성\n",
    "def feat(dt):\n",
    "    df=dt.copy()\n",
    "    df['TOTAL']=df['UP_POP']+df['DOWN_POP']\n",
    "    df['T']=[0 if (int(i.split(':')[0])>19) or (int(i.split(':')[0])<17) else 1 for i in df['TIME']]\n",
    "    return df"
   ]
  },
  {
   "cell_type": "code",
   "execution_count": 39,
   "id": "9192bf45",
   "metadata": {},
   "outputs": [],
   "source": [
    "# 가중치 컬럼 생성 후 필요없는 컬럼 제거\n",
    "def weight(dt):\n",
    "    df=dt.copy()\n",
    "    mean=pd.pivot_table(df,index='STATION_NAME',values='TOTAL')\n",
    "#     sum_m=sum(mean['TOTAL'])\n",
    "#     w=mean/sum_m\n",
    "    mm=MinMaxScaler()\n",
    "    w=mm.fit_transform(mean)\n",
    "    mean['W']=w\n",
    "    df=pd.merge(df.drop(['UP_POP','DOWN_POP'],axis=1),mean.drop(['TOTAL'],axis=1),on='STATION_NAME')\n",
    "    return df\n",
    "    "
   ]
  },
  {
   "cell_type": "code",
   "execution_count": 30,
   "id": "8934e430",
   "metadata": {},
   "outputs": [],
   "source": [
    "# 로그변환\n",
    "def log_trans(dt):\n",
    "    df=dt.copy()\n",
    "    feat=df.columns.drop('ONDO')\n",
    "    df[feat]=np.log1p(df[feat])\n",
    "    return df\n",
    "    "
   ]
  },
  {
   "cell_type": "code",
   "execution_count": 40,
   "id": "275f5a50",
   "metadata": {},
   "outputs": [],
   "source": [
    "# 모든함수 적용\n",
    "def pre(dt):\n",
    "    df=dt.copy()\n",
    "    df=feat(df)\n",
    "    df=weight(df).drop(['DAY','GU','TIME'],axis=1).set_index('STATION_NAME')\n",
    "    df=log_trans(df)\n",
    "    X=df.drop('TOTAL',axis=1)\n",
    "    Y=df[['TOTAL']]\n",
    "    return X,Y"
   ]
  },
  {
   "cell_type": "code",
   "execution_count": 41,
   "id": "2f7c5dce",
   "metadata": {},
   "outputs": [],
   "source": [
    "X,Y=pre(tot)"
   ]
  },
  {
   "cell_type": "code",
   "execution_count": 83,
   "id": "2387098e",
   "metadata": {},
   "outputs": [
    {
     "data": {
      "text/html": [
       "<div>\n",
       "<style scoped>\n",
       "    .dataframe tbody tr th:only-of-type {\n",
       "        vertical-align: middle;\n",
       "    }\n",
       "\n",
       "    .dataframe tbody tr th {\n",
       "        vertical-align: top;\n",
       "    }\n",
       "\n",
       "    .dataframe thead th {\n",
       "        text-align: right;\n",
       "    }\n",
       "</style>\n",
       "<table border=\"1\" class=\"dataframe\">\n",
       "  <thead>\n",
       "    <tr style=\"text-align: right;\">\n",
       "      <th></th>\n",
       "      <th>RAIN</th>\n",
       "      <th>HUMN</th>\n",
       "      <th>SNOW</th>\n",
       "      <th>SKY</th>\n",
       "      <th>ONDO</th>\n",
       "      <th>WINDD</th>\n",
       "      <th>WINDS</th>\n",
       "      <th>PM10</th>\n",
       "      <th>PM25</th>\n",
       "      <th>T</th>\n",
       "      <th>W</th>\n",
       "    </tr>\n",
       "    <tr>\n",
       "      <th>STATION_NAME</th>\n",
       "      <th></th>\n",
       "      <th></th>\n",
       "      <th></th>\n",
       "      <th></th>\n",
       "      <th></th>\n",
       "      <th></th>\n",
       "      <th></th>\n",
       "      <th></th>\n",
       "      <th></th>\n",
       "      <th></th>\n",
       "      <th></th>\n",
       "    </tr>\n",
       "  </thead>\n",
       "  <tbody>\n",
       "    <tr>\n",
       "      <th>가락시장</th>\n",
       "      <td>0.0</td>\n",
       "      <td>3.806662</td>\n",
       "      <td>0.0</td>\n",
       "      <td>1.386294</td>\n",
       "      <td>-4.9</td>\n",
       "      <td>2.639057</td>\n",
       "      <td>0.955511</td>\n",
       "      <td>3.871201</td>\n",
       "      <td>3.583519</td>\n",
       "      <td>0.0</td>\n",
       "      <td>0.245604</td>\n",
       "    </tr>\n",
       "    <tr>\n",
       "      <th>가락시장</th>\n",
       "      <td>0.0</td>\n",
       "      <td>3.737670</td>\n",
       "      <td>0.0</td>\n",
       "      <td>0.693147</td>\n",
       "      <td>-3.7</td>\n",
       "      <td>2.639057</td>\n",
       "      <td>1.252763</td>\n",
       "      <td>3.713572</td>\n",
       "      <td>3.258097</td>\n",
       "      <td>0.0</td>\n",
       "      <td>0.245604</td>\n",
       "    </tr>\n",
       "    <tr>\n",
       "      <th>가락시장</th>\n",
       "      <td>0.0</td>\n",
       "      <td>3.871201</td>\n",
       "      <td>0.0</td>\n",
       "      <td>1.386294</td>\n",
       "      <td>-2.8</td>\n",
       "      <td>2.639057</td>\n",
       "      <td>1.335001</td>\n",
       "      <td>3.761200</td>\n",
       "      <td>3.367296</td>\n",
       "      <td>0.0</td>\n",
       "      <td>0.245604</td>\n",
       "    </tr>\n",
       "    <tr>\n",
       "      <th>가락시장</th>\n",
       "      <td>0.0</td>\n",
       "      <td>3.912023</td>\n",
       "      <td>0.0</td>\n",
       "      <td>1.386294</td>\n",
       "      <td>-1.5</td>\n",
       "      <td>2.564949</td>\n",
       "      <td>1.308333</td>\n",
       "      <td>3.828641</td>\n",
       "      <td>3.433987</td>\n",
       "      <td>0.0</td>\n",
       "      <td>0.245604</td>\n",
       "    </tr>\n",
       "    <tr>\n",
       "      <th>가락시장</th>\n",
       "      <td>0.0</td>\n",
       "      <td>3.951244</td>\n",
       "      <td>0.0</td>\n",
       "      <td>1.386294</td>\n",
       "      <td>-1.7</td>\n",
       "      <td>2.639057</td>\n",
       "      <td>1.504077</td>\n",
       "      <td>3.761200</td>\n",
       "      <td>3.295837</td>\n",
       "      <td>0.0</td>\n",
       "      <td>0.245604</td>\n",
       "    </tr>\n",
       "  </tbody>\n",
       "</table>\n",
       "</div>"
      ],
      "text/plain": [
       "              RAIN      HUMN  SNOW       SKY  ONDO     WINDD     WINDS  \\\n",
       "STATION_NAME                                                             \n",
       "가락시장           0.0  3.806662   0.0  1.386294  -4.9  2.639057  0.955511   \n",
       "가락시장           0.0  3.737670   0.0  0.693147  -3.7  2.639057  1.252763   \n",
       "가락시장           0.0  3.871201   0.0  1.386294  -2.8  2.639057  1.335001   \n",
       "가락시장           0.0  3.912023   0.0  1.386294  -1.5  2.564949  1.308333   \n",
       "가락시장           0.0  3.951244   0.0  1.386294  -1.7  2.639057  1.504077   \n",
       "\n",
       "                  PM10      PM25    T         W  \n",
       "STATION_NAME                                     \n",
       "가락시장          3.871201  3.583519  0.0  0.245604  \n",
       "가락시장          3.713572  3.258097  0.0  0.245604  \n",
       "가락시장          3.761200  3.367296  0.0  0.245604  \n",
       "가락시장          3.828641  3.433987  0.0  0.245604  \n",
       "가락시장          3.761200  3.295837  0.0  0.245604  "
      ]
     },
     "execution_count": 83,
     "metadata": {},
     "output_type": "execute_result"
    }
   ],
   "source": [
    "X.head()"
   ]
  },
  {
   "cell_type": "code",
   "execution_count": 84,
   "id": "976c5d06",
   "metadata": {},
   "outputs": [
    {
     "data": {
      "text/html": [
       "<div>\n",
       "<style scoped>\n",
       "    .dataframe tbody tr th:only-of-type {\n",
       "        vertical-align: middle;\n",
       "    }\n",
       "\n",
       "    .dataframe tbody tr th {\n",
       "        vertical-align: top;\n",
       "    }\n",
       "\n",
       "    .dataframe thead th {\n",
       "        text-align: right;\n",
       "    }\n",
       "</style>\n",
       "<table border=\"1\" class=\"dataframe\">\n",
       "  <thead>\n",
       "    <tr style=\"text-align: right;\">\n",
       "      <th></th>\n",
       "      <th>TOTAL</th>\n",
       "    </tr>\n",
       "    <tr>\n",
       "      <th>STATION_NAME</th>\n",
       "      <th></th>\n",
       "    </tr>\n",
       "  </thead>\n",
       "  <tbody>\n",
       "    <tr>\n",
       "      <th>가락시장</th>\n",
       "      <td>6.410175</td>\n",
       "    </tr>\n",
       "    <tr>\n",
       "      <th>가락시장</th>\n",
       "      <td>6.719013</td>\n",
       "    </tr>\n",
       "    <tr>\n",
       "      <th>가락시장</th>\n",
       "      <td>6.933423</td>\n",
       "    </tr>\n",
       "    <tr>\n",
       "      <th>가락시장</th>\n",
       "      <td>6.844815</td>\n",
       "    </tr>\n",
       "    <tr>\n",
       "      <th>가락시장</th>\n",
       "      <td>6.965080</td>\n",
       "    </tr>\n",
       "  </tbody>\n",
       "</table>\n",
       "</div>"
      ],
      "text/plain": [
       "                 TOTAL\n",
       "STATION_NAME          \n",
       "가락시장          6.410175\n",
       "가락시장          6.719013\n",
       "가락시장          6.933423\n",
       "가락시장          6.844815\n",
       "가락시장          6.965080"
      ]
     },
     "execution_count": 84,
     "metadata": {},
     "output_type": "execute_result"
    }
   ],
   "source": [
    "Y.head()"
   ]
  },
  {
   "cell_type": "markdown",
   "id": "2499fa22",
   "metadata": {},
   "source": [
    "# 회귀 모델링"
   ]
  },
  {
   "cell_type": "code",
   "execution_count": 87,
   "id": "d869cd15",
   "metadata": {},
   "outputs": [],
   "source": [
    "def lr_eval(X,Y,method=None):\n",
    "    global X_train, X_test, y_train, y_test\n",
    "    X_train, X_test, y_train, y_test = train_test_split(X, Y, test_size=0.2, shuffle=True)\n",
    "    if method==None:\n",
    "        lr=LinearRegression()\n",
    "        lr.fit(X_train,y_train)\n",
    "\n",
    "        pred=lr.predict(X_train)\n",
    "        pred_t=lr.predict(X_test)\n",
    "        \n",
    "\n",
    "    elif method=='Poly':\n",
    "        poly=Pipeline([('poly',PolynomialFeatures(degree=2)),\n",
    "                      ('linear',LinearRegression())])\n",
    "        lr=poly.fit(X_train,y_train)\n",
    "        \n",
    "        pred=lr.predict(X_train)\n",
    "        pred_t=lr.predict(X_test)\n",
    "\n",
    "    print('Train Data MSE : {0}, R2_score : {1}'.format(mean_squared_error(y_train,pred),r2_score(y_train,pred)))\n",
    "    print('Test Data MSE : {0}, R2_score : {1}'.format(mean_squared_error(y_test,pred_t),r2_score(y_test,pred_t)))\n",
    "    return lr"
   ]
  },
  {
   "cell_type": "code",
   "execution_count": 89,
   "id": "5b245c18",
   "metadata": {},
   "outputs": [
    {
     "name": "stdout",
     "output_type": "stream",
     "text": [
      "Train Data MSE : 0.311208134959513, R2_score : 0.6001342440206402\n",
      "Test Data MSE : 0.31124221933614465, R2_score : 0.5988617147852522\n"
     ]
    }
   ],
   "source": [
    "lr=lr_eval(X,Y)  # 일반 선형 성능"
   ]
  },
  {
   "cell_type": "code",
   "execution_count": 88,
   "id": "0b4d35ab",
   "metadata": {
    "scrolled": true
   },
   "outputs": [
    {
     "name": "stdout",
     "output_type": "stream",
     "text": [
      "Train Data MSE : 0.27050097494790704, R2_score : 0.6520361233417233\n",
      "Test Data MSE : 0.27111431169050415, R2_score : 0.6521926391297665\n"
     ]
    }
   ],
   "source": [
    "lr2=lr_eval(X,Y,method='Poly') # 2차 다항회귀 성능"
   ]
  },
  {
   "cell_type": "code",
   "execution_count": null,
   "id": "7c531658",
   "metadata": {},
   "outputs": [],
   "source": []
  }
 ],
 "metadata": {
  "kernelspec": {
   "display_name": "Python 3 (ipykernel)",
   "language": "python",
   "name": "python3"
  },
  "language_info": {
   "codemirror_mode": {
    "name": "ipython",
    "version": 3
   },
   "file_extension": ".py",
   "mimetype": "text/x-python",
   "name": "python",
   "nbconvert_exporter": "python",
   "pygments_lexer": "ipython3",
   "version": "3.9.12"
  }
 },
 "nbformat": 4,
 "nbformat_minor": 5
}
