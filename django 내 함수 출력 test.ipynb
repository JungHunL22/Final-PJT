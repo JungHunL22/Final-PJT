{
 "cells": [
  {
   "cell_type": "markdown",
   "id": "98c3f154",
   "metadata": {},
   "source": [
    "## station_name마다 관광지 및 맛집 출력"
   ]
  },
  {
   "cell_type": "code",
   "execution_count": 158,
   "id": "92e389c6",
   "metadata": {},
   "outputs": [],
   "source": [
    "temp=[{'station_name': '역삼', 't_name': '역삼관광지 1'}, {'station_name': '선릉', 't_name': '선릉관광지1'}, {'station_name': '역삼', 't_name': '역삼관광지2'}, {'station_name': '역삼', 't_name': '역삼맛집1'}, {'station_name': '역삼', 't_name': '역삼맛집2'}, {'station_name': '선릉', 't_name': '선릉관광지2'}, {'station_name': '선릉', 't_name': '선릉관광지3'}, {'station_name': '선릉', 't_name': '선릉맛집1'}, {'station_name': '역삼', 't_name': '역삼맛집3'}]"
   ]
  },
  {
   "cell_type": "code",
   "execution_count": 159,
   "id": "3212741c",
   "metadata": {},
   "outputs": [
    {
     "data": {
      "text/plain": [
       "[{'station_name': '역삼', 't_name': '역삼관광지 1'},\n",
       " {'station_name': '선릉', 't_name': '선릉관광지1'},\n",
       " {'station_name': '역삼', 't_name': '역삼관광지2'},\n",
       " {'station_name': '역삼', 't_name': '역삼맛집1'},\n",
       " {'station_name': '역삼', 't_name': '역삼맛집2'},\n",
       " {'station_name': '선릉', 't_name': '선릉관광지2'},\n",
       " {'station_name': '선릉', 't_name': '선릉관광지3'},\n",
       " {'station_name': '선릉', 't_name': '선릉맛집1'},\n",
       " {'station_name': '역삼', 't_name': '역삼맛집3'}]"
      ]
     },
     "execution_count": 159,
     "metadata": {},
     "output_type": "execute_result"
    }
   ],
   "source": [
    "temp"
   ]
  },
  {
   "cell_type": "code",
   "execution_count": 170,
   "id": "fed6147f",
   "metadata": {},
   "outputs": [],
   "source": [
    "x=[]"
   ]
  },
  {
   "cell_type": "code",
   "execution_count": 171,
   "id": "f2afe5a3",
   "metadata": {},
   "outputs": [],
   "source": [
    "for i in temp:\n",
    "    x.append(i['station_name'])\n",
    "#     print(i['station_name'])"
   ]
  },
  {
   "cell_type": "code",
   "execution_count": 172,
   "id": "71fb1ded",
   "metadata": {},
   "outputs": [
    {
     "data": {
      "text/plain": [
       "['역삼', '선릉', '역삼', '역삼', '역삼', '선릉', '선릉', '선릉', '역삼']"
      ]
     },
     "execution_count": 172,
     "metadata": {},
     "output_type": "execute_result"
    }
   ],
   "source": [
    "x"
   ]
  },
  {
   "cell_type": "code",
   "execution_count": 173,
   "id": "193428b4",
   "metadata": {},
   "outputs": [],
   "source": [
    "st=set(x)"
   ]
  },
  {
   "cell_type": "code",
   "execution_count": 174,
   "id": "1dd9c7c1",
   "metadata": {},
   "outputs": [
    {
     "data": {
      "text/plain": [
       "{'선릉', '역삼'}"
      ]
     },
     "execution_count": 174,
     "metadata": {},
     "output_type": "execute_result"
    }
   ],
   "source": [
    "st"
   ]
  },
  {
   "cell_type": "code",
   "execution_count": 168,
   "id": "95ec6cfe",
   "metadata": {},
   "outputs": [],
   "source": [
    "for i in temp:\n",
    "    for j in st:\n",
    "        if i['station_name']==j:\n",
    "            print(i['t_name'])"
   ]
  },
  {
   "cell_type": "code",
   "execution_count": 166,
   "id": "ce4869c0",
   "metadata": {},
   "outputs": [
    {
     "name": "stdout",
     "output_type": "stream",
     "text": [
      "역삼\n",
      "선릉\n",
      "역삼\n",
      "역삼\n",
      "역삼\n",
      "선릉\n",
      "선릉\n",
      "선릉\n",
      "역삼\n"
     ]
    }
   ],
   "source": [
    "st={}\n",
    "for i in temp:\n",
    "    print(i['station_name'])\n"
   ]
  },
  {
   "cell_type": "code",
   "execution_count": 179,
   "id": "2d40b492",
   "metadata": {},
   "outputs": [
    {
     "name": "stdout",
     "output_type": "stream",
     "text": [
      "station : 선릉역, category : 선릉관광지1\n",
      "station : 선릉역, category : 선릉관광지2\n",
      "station : 선릉역, category : 선릉관광지3\n",
      "station : 선릉역, category : 선릉맛집1\n",
      "station : 역삼역, category : 역삼관광지 1\n",
      "station : 역삼역, category : 역삼관광지2\n",
      "station : 역삼역, category : 역삼맛집1\n",
      "station : 역삼역, category : 역삼맛집2\n",
      "station : 역삼역, category : 역삼맛집3\n"
     ]
    }
   ],
   "source": [
    "for i in st:\n",
    "    for j in temp:\n",
    "        #print(i,j['station_name'])\n",
    "        if i==j['station_name']:\n",
    "            print('station : {}역, category : {}'.format(i,j['t_name']))"
   ]
  },
  {
   "cell_type": "markdown",
   "id": "9e3a510f",
   "metadata": {},
   "source": [
    "## 딕셔너리 안에 카테고리 (관광지->tour /  맛집->res)로 변경"
   ]
  },
  {
   "cell_type": "code",
   "execution_count": 80,
   "id": "853034a4",
   "metadata": {},
   "outputs": [],
   "source": [
    "x=[{'station_name': '신설동', 't_name': '서울풍물시장전통문화체험관', 'address': '서울 동대문구 천호대로4길 21-0', 'cate': '관광지', 'lat': 37.57272897, 'lon': 127.0254018}, {'station_name': '신설동', 't_name': '동네극장', 'address': '서울 동대문구 안암로6길 19-0', 'cate': '관광지', 'lat': 37.57918385, 'lon': 127.0258954}, {'station_name': '신설동', 't_name': '렛츠런CCC/동대문지점', 'address': '서울 동대문구 난계로 254-0', 'cate': '관광지', 'lat': 37.57432329, 'lon': 127.023729}, {'station_name': '신설동', 't_name': '서울풍물시장', 'address': '서울 동대문구 천호대로4길 21-0', 'cate': '관광지', 'lat': 37.57274015, 'lon': 127.0253955}, {'station_name': '신설동', 't_name': '커피명가안암점', 'address': '서울 성북구 안암로5길 40-0', 'cate': '맛집', 'lat': 37.580887, 'lon': 127.0235}, {'station_name': '신설동', 't_name': '더가루/왕십리점', 'address': '서울 성동구 청계천로 450-0', 'cate': '관광지', 'lat': 37.57025107, 'lon': 127.0268721}, {'station_name': '신설동', 't_name': '육전식당본점', 'address': '서울 동대문구 난계로30길 16-0', 'cate': '맛집', 'lat': 37.574284, 'lon': 127.0243}, {'station_name': '신설동', 't_name': '육전식당3호점', 'address': '서울 동대문구 천호대로 38-0', 'cate': '맛집', 'lat': 37.57369, 'lon': 127.027504}, {'station_name': '신설동', 't_name': '옥천옥설렁탕', 'address': '서울 동대문구 하정로 16-0', 'cate': '맛집', 'lat': 37.572483, 'lon': 127.02698}, {'station_name': '신설동', 't_name': '어머니대성집', 'address': '서울 동대문구 왕산로11길 4-0', 'cate': '맛집', 'lat': 37.577473, 'lon': 127.028564}, {'station_name': '신설동', 't_name': '더모임', 'address': '서울 동대문구 왕산로 6-0', 'cate': '맛집', 'lat': 37.575726, 'lon': 127.02446}, {'station_name': '신설동', 't_name': '킹수제만두', 'address': '서울 동대문구 한빛로 3-0', 'cate': '맛집', 'lat': 37.57652, 'lon': 127.02412}]"
   ]
  },
  {
   "cell_type": "code",
   "execution_count": 81,
   "id": "259245b3",
   "metadata": {},
   "outputs": [],
   "source": [
    "cate=[]"
   ]
  },
  {
   "cell_type": "code",
   "execution_count": 99,
   "id": "efe9a0ca",
   "metadata": {},
   "outputs": [],
   "source": [
    "for i in x:\n",
    "    if i['cate']=='관광지':\n",
    "       i.update(cate='tour')\n",
    "    else:\n",
    "        i.update(cate='res')"
   ]
  },
  {
   "cell_type": "code",
   "execution_count": 100,
   "id": "70d7cae6",
   "metadata": {
    "scrolled": true
   },
   "outputs": [
    {
     "data": {
      "text/plain": [
       "[{'station_name': '신설동',\n",
       "  't_name': '서울풍물시장전통문화체험관',\n",
       "  'address': '서울 동대문구 천호대로4길 21-0',\n",
       "  'cate': 'tour',\n",
       "  'lat': 37.57272897,\n",
       "  'lon': 127.0254018},\n",
       " {'station_name': '신설동',\n",
       "  't_name': '동네극장',\n",
       "  'address': '서울 동대문구 안암로6길 19-0',\n",
       "  'cate': 'tour',\n",
       "  'lat': 37.57918385,\n",
       "  'lon': 127.0258954},\n",
       " {'station_name': '신설동',\n",
       "  't_name': '렛츠런CCC/동대문지점',\n",
       "  'address': '서울 동대문구 난계로 254-0',\n",
       "  'cate': 'tour',\n",
       "  'lat': 37.57432329,\n",
       "  'lon': 127.023729},\n",
       " {'station_name': '신설동',\n",
       "  't_name': '서울풍물시장',\n",
       "  'address': '서울 동대문구 천호대로4길 21-0',\n",
       "  'cate': 'tour',\n",
       "  'lat': 37.57274015,\n",
       "  'lon': 127.0253955},\n",
       " {'station_name': '신설동',\n",
       "  't_name': '커피명가안암점',\n",
       "  'address': '서울 성북구 안암로5길 40-0',\n",
       "  'cate': 'res',\n",
       "  'lat': 37.580887,\n",
       "  'lon': 127.0235},\n",
       " {'station_name': '신설동',\n",
       "  't_name': '더가루/왕십리점',\n",
       "  'address': '서울 성동구 청계천로 450-0',\n",
       "  'cate': 'tour',\n",
       "  'lat': 37.57025107,\n",
       "  'lon': 127.0268721},\n",
       " {'station_name': '신설동',\n",
       "  't_name': '육전식당본점',\n",
       "  'address': '서울 동대문구 난계로30길 16-0',\n",
       "  'cate': 'res',\n",
       "  'lat': 37.574284,\n",
       "  'lon': 127.0243},\n",
       " {'station_name': '신설동',\n",
       "  't_name': '육전식당3호점',\n",
       "  'address': '서울 동대문구 천호대로 38-0',\n",
       "  'cate': 'res',\n",
       "  'lat': 37.57369,\n",
       "  'lon': 127.027504},\n",
       " {'station_name': '신설동',\n",
       "  't_name': '옥천옥설렁탕',\n",
       "  'address': '서울 동대문구 하정로 16-0',\n",
       "  'cate': 'res',\n",
       "  'lat': 37.572483,\n",
       "  'lon': 127.02698},\n",
       " {'station_name': '신설동',\n",
       "  't_name': '어머니대성집',\n",
       "  'address': '서울 동대문구 왕산로11길 4-0',\n",
       "  'cate': 'res',\n",
       "  'lat': 37.577473,\n",
       "  'lon': 127.028564},\n",
       " {'station_name': '신설동',\n",
       "  't_name': '더모임',\n",
       "  'address': '서울 동대문구 왕산로 6-0',\n",
       "  'cate': 'res',\n",
       "  'lat': 37.575726,\n",
       "  'lon': 127.02446},\n",
       " {'station_name': '신설동',\n",
       "  't_name': '킹수제만두',\n",
       "  'address': '서울 동대문구 한빛로 3-0',\n",
       "  'cate': 'res',\n",
       "  'lat': 37.57652,\n",
       "  'lon': 127.02412}]"
      ]
     },
     "execution_count": 100,
     "metadata": {},
     "output_type": "execute_result"
    }
   ],
   "source": [
    "x"
   ]
  },
  {
   "cell_type": "markdown",
   "id": "c0c8b5cb",
   "metadata": {},
   "source": [
    "## 주소에서 / 제거"
   ]
  },
  {
   "cell_type": "code",
   "execution_count": 118,
   "id": "5bdba2fc",
   "metadata": {},
   "outputs": [],
   "source": [
    "x=[{'station_name': '건대입구', 't_name': '감성타코건대점', 'address': '서울 광진구 능동로13길 39-0', 'cate': 'res', 'lat': 37.54396, 'lon': 127.069756}, {'station_name': '건대입구', 't_name': '광진문화예술회관/나루아트센터'\n",
    ", 'address': '서울 광진구 능동로 76-0', 'cate': 'tour', 'lat': 37.5374945, 'lon': 127.0706418}, {'station_name': '건대입구', 't_name': '퐁퐁플라워/건대센터', 'address': '서울 광진구 아차산로 272-0', 'cate': 'tour', 'lat': 37.5386055\n",
    ", 'lon': 127.0730582}, {'station_name': '건대입구', 't_name': '한아름쇼핑센터', 'address': '서울 광진구 능동로13길 39-0', 'cate': 'tour', 'lat': 37.5434938, 'lon': 127.069864}]"
   ]
  },
  {
   "cell_type": "code",
   "execution_count": 123,
   "id": "1ab554e2",
   "metadata": {},
   "outputs": [],
   "source": [
    "for i in x:\n",
    "    i['t_name']=i['t_name'].replace('/','')"
   ]
  },
  {
   "cell_type": "code",
   "execution_count": 124,
   "id": "d0c62745",
   "metadata": {},
   "outputs": [
    {
     "data": {
      "text/plain": [
       "[{'station_name': '건대입구',\n",
       "  't_name': '감성타코건대점',\n",
       "  'address': '서울 광진구 능동로13길 39-0',\n",
       "  'cate': 'res',\n",
       "  'lat': 37.54396,\n",
       "  'lon': 127.069756},\n",
       " {'station_name': '건대입구',\n",
       "  't_name': '광진문화예술회관나루아트센터',\n",
       "  'address': '서울 광진구 능동로 76-0',\n",
       "  'cate': 'tour',\n",
       "  'lat': 37.5374945,\n",
       "  'lon': 127.0706418},\n",
       " {'station_name': '건대입구',\n",
       "  't_name': '퐁퐁플라워건대센터',\n",
       "  'address': '서울 광진구 아차산로 272-0',\n",
       "  'cate': 'tour',\n",
       "  'lat': 37.5386055,\n",
       "  'lon': 127.0730582},\n",
       " {'station_name': '건대입구',\n",
       "  't_name': '한아름쇼핑센터',\n",
       "  'address': '서울 광진구 능동로13길 39-0',\n",
       "  'cate': 'tour',\n",
       "  'lat': 37.5434938,\n",
       "  'lon': 127.069864}]"
      ]
     },
     "execution_count": 124,
     "metadata": {},
     "output_type": "execute_result"
    }
   ],
   "source": [
    "x"
   ]
  },
  {
   "cell_type": "markdown",
   "id": "4b64171c",
   "metadata": {},
   "source": [
    "## 중복된 관광지 및 맛집 DB에 저장 막기"
   ]
  },
  {
   "cell_type": "markdown",
   "id": "130590e9",
   "metadata": {},
   "source": [
    "#### 장고에서 getlist로 받아온 list형식"
   ]
  },
  {
   "cell_type": "code",
   "execution_count": 185,
   "id": "2c75426a",
   "metadata": {},
   "outputs": [],
   "source": [
    "lis=['구름아래소극장', '플라워바이네이키드']"
   ]
  },
  {
   "cell_type": "code",
   "execution_count": 186,
   "id": "51202e81",
   "metadata": {},
   "outputs": [
    {
     "data": {
      "text/plain": [
       "['구름아래소극장', '플라워바이네이키드']"
      ]
     },
     "execution_count": 186,
     "metadata": {},
     "output_type": "execute_result"
    }
   ],
   "source": [
    "lis"
   ]
  },
  {
   "cell_type": "markdown",
   "id": "8b20a25c",
   "metadata": {},
   "source": [
    "#### 장고에서 쿼리셋 형식 [{}]"
   ]
  },
  {
   "cell_type": "code",
   "execution_count": 187,
   "id": "e7998ff3",
   "metadata": {},
   "outputs": [],
   "source": [
    "lis_add=[{'t_name': '구름아래소극장'}, {'t_name': '플라워바이네이키드'}]"
   ]
  },
  {
   "cell_type": "code",
   "execution_count": 188,
   "id": "eb787a86",
   "metadata": {},
   "outputs": [
    {
     "data": {
      "text/plain": [
       "[{'t_name': '구름아래소극장'}, {'t_name': '플라워바이네이키드'}]"
      ]
     },
     "execution_count": 188,
     "metadata": {},
     "output_type": "execute_result"
    }
   ],
   "source": [
    "lis_add"
   ]
  },
  {
   "cell_type": "code",
   "execution_count": 114,
   "id": "c7dc7172",
   "metadata": {},
   "outputs": [],
   "source": [
    "l=[]"
   ]
  },
  {
   "cell_type": "code",
   "execution_count": 115,
   "id": "bf77e698",
   "metadata": {},
   "outputs": [],
   "source": [
    "for i in range(len(lis_add)):\n",
    "    l.append(list(lis_add[i].values())[0])\n",
    "\n",
    "    "
   ]
  },
  {
   "cell_type": "code",
   "execution_count": 116,
   "id": "495f7aed",
   "metadata": {},
   "outputs": [
    {
     "data": {
      "text/plain": [
       "['구름아래소극장', '플라워바이네이키드']"
      ]
     },
     "execution_count": 116,
     "metadata": {},
     "output_type": "execute_result"
    }
   ],
   "source": [
    "l"
   ]
  },
  {
   "cell_type": "code",
   "execution_count": 122,
   "id": "3893ed7d",
   "metadata": {},
   "outputs": [],
   "source": [
    "lis.append('장소1')"
   ]
  },
  {
   "cell_type": "code",
   "execution_count": 183,
   "id": "21b98cf8",
   "metadata": {},
   "outputs": [
    {
     "ename": "AttributeError",
     "evalue": "'NoneType' object has no attribute 'append'",
     "output_type": "error",
     "traceback": [
      "\u001b[1;31m---------------------------------------------------------------------------\u001b[0m",
      "\u001b[1;31mAttributeError\u001b[0m                            Traceback (most recent call last)",
      "Input \u001b[1;32mIn [183]\u001b[0m, in \u001b[0;36m<cell line: 1>\u001b[1;34m()\u001b[0m\n\u001b[1;32m----> 1\u001b[0m \u001b[43ml\u001b[49m\u001b[38;5;241;43m.\u001b[39;49m\u001b[43mappend\u001b[49m\u001b[43m(\u001b[49m\u001b[38;5;124;43m'\u001b[39;49m\u001b[38;5;124;43m장소2\u001b[39;49m\u001b[38;5;124;43m'\u001b[39;49m\u001b[43m)\u001b[49m\u001b[38;5;241;43m.\u001b[39;49m\u001b[43mappend\u001b[49m(\u001b[38;5;124m'\u001b[39m\u001b[38;5;124m장소3\u001b[39m\u001b[38;5;124m'\u001b[39m)\n",
      "\u001b[1;31mAttributeError\u001b[0m: 'NoneType' object has no attribute 'append'"
     ]
    }
   ],
   "source": [
    "l.append('장소2').append('장소3')"
   ]
  },
  {
   "cell_type": "markdown",
   "id": "2a27f831",
   "metadata": {},
   "source": [
    "### DB=l , 추가된 리스트=lis"
   ]
  },
  {
   "cell_type": "code",
   "execution_count": 182,
   "id": "811fc9c9",
   "metadata": {},
   "outputs": [
    {
     "data": {
      "text/plain": [
       "['구름아래소극장', '플라워바이네이키드', 'dd', 'dd', ['장소2', '장소3']]"
      ]
     },
     "execution_count": 182,
     "metadata": {},
     "output_type": "execute_result"
    }
   ],
   "source": [
    "l"
   ]
  },
  {
   "cell_type": "code",
   "execution_count": 135,
   "id": "ab3f508f",
   "metadata": {},
   "outputs": [
    {
     "data": {
      "text/plain": [
       "['구름아래소극장', '플라워바이네이키드', 'asdf']"
      ]
     },
     "execution_count": 135,
     "metadata": {},
     "output_type": "execute_result"
    }
   ],
   "source": [
    "lis"
   ]
  },
  {
   "cell_type": "markdown",
   "id": "684ee928",
   "metadata": {},
   "source": [
    "추가된 리스트랑 db를 비교 -> 추가된 리스트 중 db에 이미 존재하는것이 있으면 추가 X 아니면 추가"
   ]
  },
  {
   "cell_type": "code",
   "execution_count": 148,
   "id": "9dbb1f3d",
   "metadata": {},
   "outputs": [
    {
     "name": "stdout",
     "output_type": "stream",
     "text": [
      "asdf 추가\n"
     ]
    }
   ],
   "source": [
    "for i in lis:\n",
    "    \n",
    "    if i not in l:\n",
    "        print(i,'추가')"
   ]
  },
  {
   "cell_type": "markdown",
   "id": "33d382b8",
   "metadata": {},
   "source": [
    "## 장고 내 views 내 함수\n",
    "    if request.method == 'POST':\n",
    "        station = request.POST['station']\n",
    "        gu = request.POST['gu']\n",
    "        location = request.POST.getlist('location')\n",
    "        location_cate = request.POST.getlist('location_cate')\n",
    "        # print(location)\n",
    "        id = request.user.id\n",
    "        list_t=MyPlace.objects.filter(user_id=id).values('t_name')\n",
    "        # # print(list_t)\n",
    "        l=[]\n",
    "        for i in range(len(list_t)):\n",
    "            l.append(list(list_t[i].values())[0])\n",
    "        # print(l)\n",
    "\n",
    "        for i, name in enumerate(location):\n",
    "            if len(location) != 0:\n",
    "                if name not in l:\n",
    "                    #for i, name in enumerate(location):\n",
    "                   MyPlace(user_id=id, gu=gu, station_name=station, t_name=name, cate=location_cate[i]).save()\n",
    "            else:\n",
    "                MyPlace(user_id=id, gu=gu, station_name=station, t_name=name, cate=location_cate[i]).save()\n",
    "    else:\n",
    "        return redirect('/')"
   ]
  },
  {
   "cell_type": "code",
   "execution_count": null,
   "id": "1f3fccdd",
   "metadata": {},
   "outputs": [],
   "source": []
  }
 ],
 "metadata": {
  "kernelspec": {
   "display_name": "Python 3 (ipykernel)",
   "language": "python",
   "name": "python3"
  },
  "language_info": {
   "codemirror_mode": {
    "name": "ipython",
    "version": 3
   },
   "file_extension": ".py",
   "mimetype": "text/x-python",
   "name": "python",
   "nbconvert_exporter": "python",
   "pygments_lexer": "ipython3",
   "version": "3.9.12"
  }
 },
 "nbformat": 4,
 "nbformat_minor": 5
}
